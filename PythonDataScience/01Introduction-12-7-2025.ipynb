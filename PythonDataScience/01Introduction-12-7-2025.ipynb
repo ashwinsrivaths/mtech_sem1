{
 "cells": [
  {
   "cell_type": "markdown",
   "id": "bc68588e-eac2-47be-88b6-f7af8b80e3d0",
   "metadata": {},
   "source": [
    "# Python PDS\n",
    "\n",
    "- underscores librarly for variables names\n",
    "- There is always a return after function call, the stack must be popped out. Soo if return not specified explicitely, None is returned of NoneType\n",
    "- \n",
    "- "
   ]
  },
  {
   "cell_type": "code",
   "execution_count": 1,
   "id": "079e0931-4e93-4733-8ea2-c0d3f5664499",
   "metadata": {},
   "outputs": [
    {
     "name": "stdout",
     "output_type": "stream",
     "text": [
      "ord fn prints the unicode value of a character ord(A) = 65\n",
      "chr(ord('A')) == 'A' ->True\n",
      "hex(ord('A') = 0x41\n",
      "u0x41 -> A\n"
     ]
    }
   ],
   "source": [
    "# english uses latin script\n",
    "# rupee unicode  = 20B9\n",
    "# \"\\u20B9\" - the \\u makes the next 2 characters read as a unicode value\n",
    "print(\"ord fn prints the unicode value of a character ord(A) = \" + str(ord('A')))\n",
    "print(\"chr(ord('A')) == 'A' ->\" +  str(chr(ord('A')) == 'A'))\n",
    "print(\"hex(ord('A') = \" + str(hex(ord('A')))) # = 0x41\n",
    "# note that \\u needs 4 digits and will throw error if valid 4 digit int is not provided\n",
    "print(\"u0x41 -> \"  + \"\\u0041\")\n",
    "\n",
    "# chr(ord('A')) == f\"\\u0x41\""
   ]
  },
  {
   "cell_type": "code",
   "execution_count": 2,
   "id": "3bf14531-0c45-4583-857e-f8ec29c8d362",
   "metadata": {},
   "outputs": [],
   "source": [
    "def testFn():\n",
    "    \"\"\"\n",
    "    this is a multi line string placed just after def and hence a docstring\n",
    "    \"\"\"\n",
    "    pass\n",
    "\n",
    "testFn()"
   ]
  },
  {
   "cell_type": "markdown",
   "id": "9dc79dcf-3dcb-495d-ad95-0d166a7129f3",
   "metadata": {},
   "source": [
    "## python language keywords\n",
    "\n",
    "- keywords can not be used as variables\n",
    "- special characters can not be used in variables\n",
    "- variable can not begin with a number\n",
    "\n",
    "## indentation\n",
    "- statements within a block must have same indentation\n",
    "- generally block heads end with a ':'\n",
    "\n",
    "## import\n",
    "- import keyword\n",
    "    - keyword is a keyword.py file sitting somewhere\n",
    "\n",
    "## variables\n",
    "- v1 = 20\n",
    "     - create a integer object in memory\n",
    "     -  put 20 in it\n",
    "     -  make v1 point to it\n",
    "- in python there is no contract bw the variable and the value\n",
    "\n",
    "- a = b = c = 5 - all three have value 5 and not interdependent\n",
    "- a , b ,c = 20, 'abc', 2.5 - positional mapping\n",
    "\n",
    "- values till 256 are already created while booting python\n",
    "- some internal optimization is done "
   ]
  },
  {
   "cell_type": "code",
   "execution_count": 3,
   "id": "63558e38-18de-423d-8e4b-629e8e755c03",
   "metadata": {},
   "outputs": [
    {
     "name": "stdout",
     "output_type": "stream",
     "text": [
      "python language keywords - ['False', 'None', 'True', 'and', 'as', 'assert', 'async', 'await', 'break', 'class', 'continue', 'def', 'del', 'elif', 'else', 'except', 'finally', 'for', 'from', 'global', 'if', 'import', 'in', 'is', 'lambda', 'nonlocal', 'not', 'or', 'pass', 'raise', 'return', 'try', 'while', 'with', 'yield']\n",
      "140719032379960\n",
      "140719032379960\n",
      "2082061283504\n",
      "2082061283504\n",
      "2082061282736\n",
      "2082061282832\n"
     ]
    }
   ],
   "source": [
    "import keyword\n",
    "print(\"python language keywords - \" + str(keyword.kwlist)) # these can not be used as variables\n",
    "\n",
    "myList = [1,2,3,4]\n",
    "myTuple = (1,2,3,4) # imutable\n",
    "\n",
    "a = b = c = 5\n",
    "print(id(a))\n",
    "print(id(b))\n",
    "\n",
    "a = b = c = 500\n",
    "print(id(a))\n",
    "print(id(b))\n",
    "\n",
    "a = 5000\n",
    "print(id(a))\n",
    "\n",
    "a = 5000\n",
    "print(id(a))"
   ]
  },
  {
   "cell_type": "markdown",
   "id": "771ab0aa-d27f-48a2-bdad-efb94c948fba",
   "metadata": {},
   "source": [
    "## input\n",
    "- there is only function in python for input in python and that is input()\n",
    "- "
   ]
  },
  {
   "cell_type": "code",
   "execution_count": 4,
   "id": "e0997c46-41e5-4185-989c-be7d0388c183",
   "metadata": {},
   "outputs": [
    {
     "name": "stdout",
     "output_type": "stream",
     "text": [
      "enter 1\n"
     ]
    },
    {
     "name": "stdout",
     "output_type": "stream",
     "text": [
      "<class 'str'>\n",
      "string concatination -  21\n",
      "3\n"
     ]
    },
    {
     "name": "stdout",
     "output_type": "stream",
     "text": [
      "enter weight 1\n"
     ]
    },
    {
     "name": "stdout",
     "output_type": "stream",
     "text": [
      "1.0 <class 'float'>\n"
     ]
    }
   ],
   "source": [
    "sub = input('enter')\n",
    "print(type(sub)) # always string\n",
    "print(\"string concatination - \" , '2' + sub)\n",
    "print(int(sub) + 2)\n",
    "\n",
    "weight = float(input('enter weight'))\n",
    "print(weight, type(weight))"
   ]
  },
  {
   "cell_type": "markdown",
   "id": "4859f477-dd03-44db-be0d-e6ab1ea89a9e",
   "metadata": {},
   "source": [
    "## operators \n",
    "- x // y -> quotient\n",
    "- x % y -> remainder\n",
    "- a** y -> x to the power of y\n",
    "- bool(0) == false \n",
    "- bool(-1) == true\n",
    "- bool(1) == true\n",
    "\n",
    "## important\n",
    "only 0 and empty string are considered to be boolean False"
   ]
  },
  {
   "cell_type": "code",
   "execution_count": 5,
   "id": "abc5e20d-fe78-4591-9a45-9ddeeeb43861",
   "metadata": {},
   "outputs": [
    {
     "name": "stdout",
     "output_type": "stream",
     "text": [
      "3\n",
      "1\n",
      "1000\n"
     ]
    }
   ],
   "source": [
    "print(10//3)\n",
    "print(10%3)\n",
    "print(10**3)"
   ]
  },
  {
   "cell_type": "code",
   "execution_count": 6,
   "id": "f0ce4904-5a4c-45f6-807e-38e78c028213",
   "metadata": {},
   "outputs": [
    {
     "name": "stdout",
     "output_type": "stream",
     "text": [
      "210\n",
      "40\n"
     ]
    }
   ],
   "source": [
    "\n",
    "def test(a, b):\n",
    "    return a*b,a+b\n",
    "\n",
    "a,b = test(10,20) # positional mapping\n",
    "\n",
    "print(a+10)\n",
    "print(b+10)"
   ]
  },
  {
   "cell_type": "code",
   "execution_count": 7,
   "id": "02fb29aa-719e-41e4-9ec4-dad004655151",
   "metadata": {},
   "outputs": [
    {
     "data": {
      "text/plain": [
       "NoneType"
      ]
     },
     "execution_count": 7,
     "metadata": {},
     "output_type": "execute_result"
    }
   ],
   "source": [
    "type(None)\n"
   ]
  },
  {
   "cell_type": "code",
   "execution_count": 8,
   "id": "6fae67d9-6931-485b-b8c9-49f307832e1a",
   "metadata": {},
   "outputs": [
    {
     "name": "stdout",
     "output_type": "stream",
     "text": [
      "('Distinction', 0)\n"
     ]
    }
   ],
   "source": [
    "def marksAnalysis(marks):\n",
    "    if(marks >= 70):\n",
    "        return \"Distinction\", 100-marks\n",
    "    elif(marks >= 60):\n",
    "        return \"FC\", 70 - marks\n",
    "    elif(marks >= 50):\n",
    "        return \"SC\", 60 - marks\n",
    "    elif(marks >= 35):\n",
    "        return \"P\", 50 - marks\n",
    "    else:\n",
    "        return \"F\", 35 - marks\n",
    "\n",
    "print(marksAnalysis(100))\n",
    "\n"
   ]
  },
  {
   "cell_type": "markdown",
   "id": "1be7a486-d15b-41a1-ba12-564083bfdf61",
   "metadata": {},
   "source": [
    "# slicing\n",
    "- convert any negative index to positive using the below formula\n",
    "    - (-1) last chatacter\n",
    "    - (-len) first character\n",
    "- ms1[7:3] - null string as start is greater than end\n",
    "- ms1[start index(inclusive), end index(exclusive), step size(default = 1)]\n",
    "- ms1[7:3:-1] ---> 7,6,5,4 is returned\n",
    "\n",
    "default start index is based on step direction\n",
    "default end index is the opposite of start index"
   ]
  },
  {
   "cell_type": "code",
   "execution_count": 9,
   "id": "16d2a998-4576-4d77-a5e8-bd78297e5b34",
   "metadata": {},
   "outputs": [
    {
     "name": "stdout",
     "output_type": "stream",
     "text": [
      "ijklmn\n",
      "\n",
      "omk\n"
     ]
    }
   ],
   "source": [
    "ms1 = \"abcdefghijklmnop\"\n",
    "print(ms1[-8:-2]) # negative of positive the end index is always excluded and -1 refers to last index and -len is 0th index\n",
    "print(ms1[-2:-8]) # empty string is returned if end index is greter than start or if my step does not take me closer to the end\n",
    "print(ms1[-2:-8:-2]) # now my negative step takes me closer to the end index"
   ]
  },
  {
   "cell_type": "markdown",
   "id": "36d46844-73d1-4e8d-9aeb-73a88dafa53f",
   "metadata": {},
   "source": [
    "## str - string class\n",
    "- dir(str) prints out all the attributes of string class\n",
    "\n",
    "- myStr.find('34', 1, 5) is equivalent to a find on myStr[1:5].find('34') and then give the correct index\n",
    "\n",
    "\n",
    "- arr.join(\"_\") -> forms a string from a array of strings # this works only on a list of strings and does not work if the array contains an integer\n",
    "\n",
    "- print(\"avg {0:s} marks = {1:d} test float {2:0.2f}\".format(\"asdf\",56,90)) \n",
    "    - the {2:0.2f} means that \n",
    "        - take argument in 2nd index\n",
    "        - accept only float values\n",
    "        - print only 2 decimal places (.2)\n",
    "\n",
    "\n",
    "- /n new line\n",
    "- /b backspace\n",
    "- /t tab\n",
    "- // / literal\n",
    "\n",
    "- "
   ]
  },
  {
   "cell_type": "code",
   "execution_count": 10,
   "id": "95be9b65-48fb-4e94-8eeb-68f71a77c3f0",
   "metadata": {},
   "outputs": [
    {
     "name": "stdout",
     "output_type": "stream",
     "text": [
      "is the string only digits True\n",
      "is the string only alphabets True\n",
      "is the string alphanumeric False\n",
      "avg asdf marks = 56 test float 90.00\n"
     ]
    }
   ],
   "source": [
    "# print(dir(str))\n",
    "print(\"is the string only digits \" + str(\"2020\".isdigit()))\n",
    "print(\"is the string only alphabets \" + str(\"asdf\".isalpha()))\n",
    "print(\"is the string alphanumeric \" + str(\"2020!\".isalnum()))\n",
    "\n",
    "\n",
    "print(\"avg {0:s} marks = {1:d} test float {2:0.2f}\".format(\"asdf\",56,90))\n"
   ]
  },
  {
   "cell_type": "code",
   "execution_count": 11,
   "id": "eeb45af5-58c5-4c04-933b-f489f64de806",
   "metadata": {},
   "outputs": [],
   "source": [
    "# help(str.replace) #use this method along with dir()"
   ]
  },
  {
   "cell_type": "code",
   "execution_count": 12,
   "id": "a6e49a3e-be4b-453c-b1af-bd89b443e1b1",
   "metadata": {},
   "outputs": [
    {
     "data": {
      "text/plain": [
       "2"
      ]
     },
     "execution_count": 12,
     "metadata": {},
     "output_type": "execute_result"
    }
   ],
   "source": [
    "myStr = \"123456789\"\n",
    "myStr.find('34')\n",
    "myStr.find('34', 1, 5) # => myStr[1:5]\n",
    "\n",
    "myStr.rfind('34') # reverse find\n"
   ]
  },
  {
   "cell_type": "markdown",
   "id": "b9d9498f-a073-4e40-810a-525515007d74",
   "metadata": {},
   "source": [
    "# Lists\n",
    "\n",
    "- list(\"mystr\") converts the string to a list of chars\n",
    "\n",
    "- list.append(\"a\")  does notreturn anything as list is a muitable object and the source object is updated (inplace = true) inplace update\n",
    "\n",
    "- list.extend(anotherList) == list + anotherList (anotherList can be any iterable)\n",
    "\n",
    "- list.reverse == list[::-1]\n",
    "\n",
    "- list.clear == clears the list (remember that list is a pointer and this clears the list for other variables pointing to this list object)\n",
    "\n",
    "- anotherList = list.copy() - shallow copy (to json to be used for deep copy??? better method) \n",
    "\n",
    "\n",
    "# note\n",
    "- one can not compare an int with a string ie 11 cant be compared with 'ab'\n",
    "- however '1' < 'a' as ascii code is compared\n",
    "- sorting, max, min can not be performed on a list even if two uncompariable elements are present in the list\n",
    "\n",
    "- min, max, len, id, dir etc are all global functions"
   ]
  },
  {
   "cell_type": "code",
   "execution_count": 13,
   "id": "a3b02722-2b89-4f03-bf4e-2791beb38f08",
   "metadata": {},
   "outputs": [
    {
     "name": "stdout",
     "output_type": "stream",
     "text": [
      "[[11, 22], [33, 44], [55, 66]]\n",
      "44\n"
     ]
    }
   ],
   "source": [
    "# a = []\n",
    "# a[0] = 0\n",
    "\n",
    "m32 = [\n",
    "    [11,22],\n",
    "    [33,44],\n",
    "    [55,66]\n",
    "]\n",
    "\n",
    "print(m32)\n",
    "print(m32[1][1])\n"
   ]
  },
  {
   "cell_type": "code",
   "execution_count": 14,
   "id": "a1e62840-6e5e-4596-9a55-709063fc1237",
   "metadata": {},
   "outputs": [],
   "source": [
    "# dir(list)"
   ]
  },
  {
   "cell_type": "code",
   "execution_count": 15,
   "id": "e99f8ef7-8cb3-4c0e-84a0-f4dd755d8e47",
   "metadata": {},
   "outputs": [
    {
     "name": "stdout",
     "output_type": "stream",
     "text": [
      "Help on method_descriptor:\n",
      "\n",
      "copy(self, /) unbound builtins.list method\n",
      "    Return a shallow copy of the list.\n",
      "\n"
     ]
    }
   ],
   "source": [
    "help(list.copy)"
   ]
  },
  {
   "cell_type": "code",
   "execution_count": 16,
   "id": "419ba08b-d352-4ecb-bc26-4c05deecb5b6",
   "metadata": {},
   "outputs": [
    {
     "name": "stdout",
     "output_type": "stream",
     "text": [
      "['ad', 0, 1, 2, 3, 4, 5]\n",
      "['ad', 0, 1, 2, 3, 4, 5, 'ad']\n",
      "['ad', 0, 1, 2, 3, 4, 5, 'test', 'ad']\n",
      "ad\n"
     ]
    }
   ],
   "source": [
    "a = [0,1,2,3,4,5]\n",
    "a.insert(-100,'ad')\n",
    "print(a)\n",
    "a.insert(100,'ad')\n",
    "print(a)\n",
    "a.insert(-1,'test') #Insert object before index.\n",
    "print(a)\n",
    "b = a.pop()\n",
    "print(b)"
   ]
  },
  {
   "cell_type": "code",
   "execution_count": 17,
   "id": "8cd75dea-63f9-46e4-bea8-5171321bfa34",
   "metadata": {},
   "outputs": [
    {
     "name": "stdout",
     "output_type": "stream",
     "text": [
      "['p', 'y', 't', 'h', 'o', 'n', 'd', 't', 'a', 's', 'c', 'i', 'e', 'n', 'c', 'e', '1', '2', '3', '4']\n",
      "['p', 'y', 't', 'h', 'o', 'n', 'd', 't', 's', 'c', 'i', 'e', 'n', 'c', 'e', '1', '2', '3', '4']\n",
      "['4', '3', '2', '1', 'e', 'c', 'n', 'e', 'i', 'c', 's', 't', 'd', 'n', 'o', 'h', 't', 'y', 'p']\n",
      "1\n",
      "12\n",
      "y\n",
      "1\n",
      "['1', '2', '3', '4', 'c', 'c', 'd', 'e', 'e', 'h', 'i', 'n', 'n', 'o', 'p', 's', 't', 't', 'y']\n",
      "['y', 't', 't', 's', 'p', 'o', 'n', 'n', 'i', 'h', 'e', 'e', 'd', 'c', 'c', '4', '3', '2', '1']\n",
      "///////////////////////////////////\n",
      "True\n"
     ]
    }
   ],
   "source": [
    "m1 = list('pythondatascience1234')\n",
    "m1.remove('a')\n",
    "print(m1)\n",
    "m1.remove('a')\n",
    "print(m1)\n",
    "# m1.remove('a') # error check if present before removing\n",
    "# print(m1)\n",
    "\n",
    "m1.reverse()\n",
    "print(m1)\n",
    "\n",
    "print(m1.count('d'))\n",
    "print(m1.index('d')) # also throws error soo please check if if exists\n",
    "\n",
    "print(max(m1))\n",
    "print(min(m1)) # ord('1') = 49 < ord('a')\n",
    "\n",
    "m1.sort()\n",
    "print(m1)\n",
    "m1.sort(reverse = True)\n",
    "print(m1)\n",
    "\n",
    "\n",
    "print(\"///////////////////////////////////\")\n",
    "print(isinstance(2,int))\n",
    "\n",
    "\n",
    "# m1 += [1,2,3,4]\n",
    "# m1.sort()\n",
    "# print(m1)\n"
   ]
  },
  {
   "cell_type": "code",
   "execution_count": 18,
   "id": "1db82018-8edb-4d36-80ff-8cce5063ee65",
   "metadata": {},
   "outputs": [
    {
     "name": "stdout",
     "output_type": "stream",
     "text": [
      "[]\n"
     ]
    }
   ],
   "source": [
    "a = ['11','ab']\n",
    "min(a)\n",
    "b = a\n",
    "b.clear()\n",
    "print(a)"
   ]
  },
  {
   "cell_type": "code",
   "execution_count": 2,
   "id": "f4865f59-8125-475a-b45e-cbee81892a7a",
   "metadata": {},
   "outputs": [
    {
     "name": "stdout",
     "output_type": "stream",
     "text": [
      "['y', 't', 't', 's', 'p', 'o', 'n', 'n', 'i', 'h', 'e', 'e', 'd', 'c', 'c', '4', '3', '2', '1']\n"
     ]
    }
   ],
   "source": [
    "a = ['y', 't', 't', 's', 'p', 'o', 'n', 'n', 'i', 'h', 'e', 'e', 'd', 'c', 'c', '4', '3', '2', '1']\n",
    "\n",
    "def obj_check(obj):\n",
    "    if isinstance(obj, (int,float)):\n",
    "        return obj\n",
    "    elif isinstance(obj, str):\n",
    "        return len(obj)\n",
    "    else:\n",
    "        return 0\n",
    "\n",
    "obj_check = lambda o: o if isinstance(o, (int,float)) else len(o) if isinstance(o, str) else 1000\n",
    "\n",
    "a.sort(key=obj_check)\n",
    "print(a)"
   ]
  },
  {
   "cell_type": "code",
   "execution_count": 20,
   "id": "c18c2d7c-7761-46f0-a7ba-5307e97bdd48",
   "metadata": {},
   "outputs": [
    {
     "name": "stdout",
     "output_type": "stream",
     "text": [
      "['ArithmeticError', 'AssertionError', 'AttributeError', 'BaseException', 'BaseExceptionGroup', 'BlockingIOError', 'BrokenPipeError', 'BufferError', 'BytesWarning', 'ChildProcessError', 'ConnectionAbortedError', 'ConnectionError', 'ConnectionRefusedError', 'ConnectionResetError', 'DeprecationWarning', 'EOFError', 'Ellipsis', 'EncodingWarning', 'EnvironmentError', 'Exception', 'ExceptionGroup', 'False', 'FileExistsError', 'FileNotFoundError', 'FloatingPointError', 'FutureWarning', 'GeneratorExit', 'IOError', 'ImportError', 'ImportWarning', 'IndentationError', 'IndexError', 'InterruptedError', 'IsADirectoryError', 'KeyError', 'KeyboardInterrupt', 'LookupError', 'MemoryError', 'ModuleNotFoundError', 'NameError', 'None', 'NotADirectoryError', 'NotImplemented', 'NotImplementedError', 'OSError', 'OverflowError', 'PendingDeprecationWarning', 'PermissionError', 'ProcessLookupError', 'RecursionError', 'ReferenceError', 'ResourceWarning', 'RuntimeError', 'RuntimeWarning', 'StopAsyncIteration', 'StopIteration', 'SyntaxError', 'SyntaxWarning', 'SystemError', 'SystemExit', 'TabError', 'TimeoutError', 'True', 'TypeError', 'UnboundLocalError', 'UnicodeDecodeError', 'UnicodeEncodeError', 'UnicodeError', 'UnicodeTranslateError', 'UnicodeWarning', 'UserWarning', 'ValueError', 'Warning', 'WindowsError', 'ZeroDivisionError', '__IPYTHON__', '__build_class__', '__debug__', '__doc__', '__import__', '__loader__', '__name__', '__package__', '__spec__', 'abs', 'aiter', 'all', 'anext', 'any', 'ascii', 'bin', 'bool', 'breakpoint', 'bytearray', 'bytes', 'callable', 'chr', 'classmethod', 'compile', 'complex', 'copyright', 'credits', 'delattr', 'dict', 'dir', 'display', 'divmod', 'enumerate', 'eval', 'exec', 'execfile', 'filter', 'float', 'format', 'frozenset', 'get_ipython', 'getattr', 'globals', 'hasattr', 'hash', 'help', 'hex', 'id', 'input', 'int', 'isinstance', 'issubclass', 'iter', 'len', 'license', 'list', 'locals', 'map', 'max', 'memoryview', 'min', 'next', 'object', 'oct', 'open', 'ord', 'pow', 'print', 'property', 'range', 'repr', 'reversed', 'round', 'runfile', 'set', 'setattr', 'slice', 'sorted', 'staticmethod', 'str', 'sum', 'super', 'tuple', 'type', 'vars', 'zip']\n"
     ]
    }
   ],
   "source": [
    "print(dir(__builtins__))\n"
   ]
  },
  {
   "cell_type": "markdown",
   "id": "e92496c5-4587-470e-be28-a15c8336e002",
   "metadata": {},
   "source": [
    "# tuples\n",
    "- immutable\n",
    "- pure tuple is when no elements of the tuple can be changed\n",
    "- impure tuple can contain a list or a muitable object that can be modified\n",
    "- only two functions - count and index"
   ]
  },
  {
   "cell_type": "code",
   "execution_count": 21,
   "id": "fd6efab1-e566-4e62-96f3-39b550cc5f9b",
   "metadata": {},
   "outputs": [
    {
     "name": "stdout",
     "output_type": "stream",
     "text": [
      "<class 'tuple'>\n",
      "5\n",
      "(11, 22, 33, 44, [1, 2, 3, 4])\n",
      "11\n",
      "(11, 22, 33, 44, [50, 2, 3, 4, 20])\n"
     ]
    }
   ],
   "source": [
    "mt1 = (11,22,33,44, [1,2,3,4])\n",
    "print(type(mt1))\n",
    "print(len(mt1))\n",
    "print(mt1)\n",
    "print(mt1[0])\n",
    "\n",
    "mt1[-1][0] = 50\n",
    "mt1[-1].append(20)\n",
    "print(mt1)"
   ]
  },
  {
   "cell_type": "code",
   "execution_count": 22,
   "id": "2e1b580c-59e5-47e2-8ffe-9049270d853c",
   "metadata": {},
   "outputs": [
    {
     "name": "stdout",
     "output_type": "stream",
     "text": [
      "<class 'int'>\n",
      "<class 'tuple'>\n"
     ]
    }
   ],
   "source": [
    "mt1 = (11) # bodmas rule this is treated as a integer as round brackets are used for grouping of integers\n",
    "print(type(mt1))\n",
    "mt1 = (11,)\n",
    "print(type(mt1))"
   ]
  },
  {
   "cell_type": "code",
   "execution_count": 23,
   "id": "461a88bb-e57b-4204-9dd7-c9924aa11b7a",
   "metadata": {},
   "outputs": [
    {
     "name": "stdout",
     "output_type": "stream",
     "text": [
      "3\n",
      "0\n",
      "/////////////////////// convert tuple to list to modify its contents\n",
      "2082079500160\n",
      "['a', 'd', 'f', 'a', 'f', 'a', 's', 'd']\n",
      "2082078881072\n",
      "('a', 'd', 'f', 'a', 'f', 'a', 's', 'd', 1234)\n"
     ]
    }
   ],
   "source": [
    "m = tuple('adfafasd')\n",
    "print(m.count('a'))\n",
    "print(m.index('a'))\n",
    "\n",
    "print('/////////////////////// convert tuple to list to modify its contents')\n",
    "m = list(m)\n",
    "print(id(m))\n",
    "print(m)\n",
    "m.append(1234)\n",
    "m = tuple(m)\n",
    "print(id(m))\n",
    "print(m)"
   ]
  },
  {
   "cell_type": "code",
   "execution_count": 24,
   "id": "78d61c2d-43f1-4c6e-8ae0-407bd8b6f2c9",
   "metadata": {},
   "outputs": [
    {
     "name": "stdout",
     "output_type": "stream",
     "text": [
      "0\n"
     ]
    },
    {
     "data": {
      "text/plain": [
       "(1, 1, 1, 1)"
      ]
     },
     "execution_count": 24,
     "metadata": {},
     "output_type": "execute_result"
    }
   ],
   "source": [
    "m = (1,1,1,1)\n",
    "print(m.count('a'))\n",
    "# print(m.index('a'))\n",
    "m"
   ]
  },
  {
   "cell_type": "code",
   "execution_count": null,
   "id": "57639db0-2b8c-474f-9f2d-868fda528e4a",
   "metadata": {},
   "outputs": [],
   "source": [
    "\n"
   ]
  },
  {
   "cell_type": "markdown",
   "id": "9ed6b325-96b4-4e96-9899-e7c0c9990663",
   "metadata": {},
   "source": [
    "# Dictionary\n",
    "- access only through keys\n",
    "- keys are unique\n",
    "- keys must be unique, immutable and hashable\n",
    "- numbers, strings and tuples are hashable\n",
    "- time taken to access any key value pair is constant as it is using hash table internally\n",
    "\n",
    "- dict.update(dict2) -> update contents of dict with dict2 also add the new content of dict2 to dict (inplace update)\n",
    "\n",
    "if i take a impure  tuple or a mutable obj as the key, then i find the hash and store it\n",
    "later i modify the list and try to access, the data will be corrupted\n",
    "\n",
    "### zip\n",
    "- zip does 1 to 1 mapping bw two or more arrays and does it till the smallest list is present\n",
    "- it returns a list of tuples"
   ]
  },
  {
   "cell_type": "code",
   "execution_count": 25,
   "id": "10f5e2ae-2dd0-4595-948b-76ac63cc7b9b",
   "metadata": {},
   "outputs": [
    {
     "name": "stdout",
     "output_type": "stream",
     "text": [
      "[1, 'a', '']\n",
      "[1, 'a', 'blank Key']\n",
      "[(1, 1), ('a', 'a'), ('', 'blank Key')]\n",
      "1\n"
     ]
    },
    {
     "data": {
      "text/plain": [
       "False"
      ]
     },
     "execution_count": 25,
     "metadata": {},
     "output_type": "execute_result"
    }
   ],
   "source": [
    "md1 = {1:1,'a':'a', \"\":\"blank Key\"}\n",
    "print(list(md1.keys()))\n",
    "print(list(md1.values()))\n",
    "print(list(md1.items()))\n",
    "\n",
    "print(md1.get(1,\"not found\"))\n",
    "md1.pop('a','aaaa')\n",
    "md1\n",
    "\n",
    "md1.setdefault(1,5)\n",
    "md1.setdefault(5)\n",
    "2 in md1"
   ]
  },
  {
   "cell_type": "code",
   "execution_count": 26,
   "id": "cb7b29c1-f2e3-43ef-b514-6a1afe4a907d",
   "metadata": {},
   "outputs": [
    {
     "data": {
      "text/plain": [
       "90"
      ]
     },
     "execution_count": 26,
     "metadata": {},
     "output_type": "execute_result"
    }
   ],
   "source": [
    "hash(90)"
   ]
  },
  {
   "cell_type": "code",
   "execution_count": 27,
   "id": "8b23765a-ce84-4d92-883a-a3f24fcb8276",
   "metadata": {},
   "outputs": [
    {
     "data": {
      "text/plain": [
       "5811031230244474789"
      ]
     },
     "execution_count": 27,
     "metadata": {},
     "output_type": "execute_result"
    }
   ],
   "source": [
    "hash('python')"
   ]
  },
  {
   "cell_type": "code",
   "execution_count": 28,
   "id": "db421e65-9bd6-4952-8f09-5ff37d9a326c",
   "metadata": {},
   "outputs": [
    {
     "data": {
      "text/plain": [
       "0"
      ]
     },
     "execution_count": 28,
     "metadata": {},
     "output_type": "execute_result"
    }
   ],
   "source": [
    "hash(\"\")"
   ]
  },
  {
   "cell_type": "code",
   "execution_count": 29,
   "id": "77249d2b-16ff-4cd7-84ce-ab83d48342de",
   "metadata": {},
   "outputs": [
    {
     "data": {
      "text/plain": [
       "0"
      ]
     },
     "execution_count": 29,
     "metadata": {},
     "output_type": "execute_result"
    }
   ],
   "source": [
    "hash(0)"
   ]
  },
  {
   "cell_type": "code",
   "execution_count": 30,
   "id": "8ba8137d-c01f-467d-a927-d3a0101ab974",
   "metadata": {},
   "outputs": [
    {
     "data": {
      "text/plain": [
       "0"
      ]
     },
     "execution_count": 30,
     "metadata": {},
     "output_type": "execute_result"
    }
   ],
   "source": [
    "hash('')"
   ]
  },
  {
   "cell_type": "code",
   "execution_count": 36,
   "id": "4a3de1a1-d5f8-486b-9c3a-adc88a87d42e",
   "metadata": {},
   "outputs": [
    {
     "name": "stdout",
     "output_type": "stream",
     "text": [
      "Help on class zip in module builtins:\n",
      "\n",
      "class zip(object)\n",
      " |  zip(*iterables, strict=False) --> Yield tuples until an input is exhausted.\n",
      " |\n",
      " |     >>> list(zip('abcdefg', range(3), range(4)))\n",
      " |     [('a', 0, 0), ('b', 1, 1), ('c', 2, 2)]\n",
      " |\n",
      " |  The zip object yields n-length tuples, where n is the number of iterables\n",
      " |  passed as positional arguments to zip().  The i-th element in every tuple\n",
      " |  comes from the i-th iterable argument to zip().  This continues until the\n",
      " |  shortest argument is exhausted.\n",
      " |\n",
      " |  If strict is true and one of the arguments is exhausted before the others,\n",
      " |  raise a ValueError.\n",
      " |\n",
      " |  Methods defined here:\n",
      " |\n",
      " |  __getattribute__(self, name, /)\n",
      " |      Return getattr(self, name).\n",
      " |\n",
      " |  __iter__(self, /)\n",
      " |      Implement iter(self).\n",
      " |\n",
      " |  __next__(self, /)\n",
      " |      Implement next(self).\n",
      " |\n",
      " |  __reduce__(...)\n",
      " |      Return state information for pickling.\n",
      " |\n",
      " |  __setstate__(...)\n",
      " |      Set state information for unpickling.\n",
      " |\n",
      " |  ----------------------------------------------------------------------\n",
      " |  Static methods defined here:\n",
      " |\n",
      " |  __new__(*args, **kwargs)\n",
      " |      Create and return a new object.  See help(type) for accurate signature.\n",
      "\n"
     ]
    }
   ],
   "source": [
    "help(zip)"
   ]
  },
  {
   "cell_type": "code",
   "execution_count": 32,
   "id": "2db5007b-9a97-496e-b6b5-aba2c689f414",
   "metadata": {},
   "outputs": [],
   "source": [
    "# dir(dict)"
   ]
  },
  {
   "cell_type": "code",
   "execution_count": 39,
   "id": "27997242-6240-4a7e-a27b-e6720491221d",
   "metadata": {},
   "outputs": [
    {
     "name": "stdout",
     "output_type": "stream",
     "text": [
      "[('bank', 'icici'), ('branch', 'mg'), ('state', 'ka')]\n",
      "[]\n"
     ]
    },
    {
     "data": {
      "text/plain": [
       "{'bank': 'icici', 'branch': 'mg', 'state': 'ka'}"
      ]
     },
     "execution_count": 39,
     "metadata": {},
     "output_type": "execute_result"
    }
   ],
   "source": [
    "\n",
    "klist = ['bank','branch','state']\n",
    "vlist = ['icici','mg','ka']\n",
    "z = zip(klist,vlist) # z is a iterator\n",
    "print(list(z))\n",
    "print(list(z))\n",
    "\n",
    "\n",
    "md1 = dict(list(zip(klist,vlist)))\n",
    "md1"
   ]
  },
  {
   "cell_type": "code",
   "execution_count": null,
   "id": "c980c950-b336-4031-b73e-5ec621a4691d",
   "metadata": {},
   "outputs": [],
   "source": []
  },
  {
   "cell_type": "markdown",
   "id": "bd15d742-ab84-4955-b093-1dc3929ea75f",
   "metadata": {},
   "source": [
    "# set\n",
    "- unordered collection of immutable items\n",
    "- ms1 = {} -> dict\n",
    "- ms1 = set() -> empty set\n",
    "- ms1 = set(\"text') -> same as tuple constructor - breakes down the string and takes only unique characters\n",
    "\n",
    "\n",
    "simmetric difference is union - intersection\n",
    "\n",
    "union\n",
    "intersection\n",
    "subtraction"
   ]
  },
  {
   "cell_type": "code",
   "execution_count": null,
   "id": "598ec4a1-f021-4dbd-bd00-660401644a97",
   "metadata": {},
   "outputs": [],
   "source": []
  }
 ],
 "metadata": {
  "kernelspec": {
   "display_name": "base",
   "language": "python",
   "name": "python3"
  },
  "language_info": {
   "codemirror_mode": {
    "name": "ipython",
    "version": 3
   },
   "file_extension": ".py",
   "mimetype": "text/x-python",
   "name": "python",
   "nbconvert_exporter": "python",
   "pygments_lexer": "ipython3",
   "version": "3.12.7"
  }
 },
 "nbformat": 4,
 "nbformat_minor": 5
}

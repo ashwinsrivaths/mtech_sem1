{
 "cells": [
  {
   "cell_type": "code",
   "execution_count": null,
   "id": "e57331d2",
   "metadata": {},
   "outputs": [],
   "source": [
    "dir()\n",
    "help()\n"
   ]
  },
  {
   "cell_type": "code",
   "execution_count": null,
   "id": "3dda0cd6",
   "metadata": {},
   "outputs": [],
   "source": [
    "isinstance('hello', (int,float)) # is 'hello' an instance of either int or float\n",
    "print(dir(__builtins__))"
   ]
  },
  {
   "cell_type": "code",
   "execution_count": null,
   "id": "b138c13a",
   "metadata": {},
   "outputs": [],
   "source": [
    "a = ['y', 't', 't', 's', 'p', 'o', 'n', 'n', 'i', 'h', 'e', 'e', 'd', 'c', 'c', '4', '3', '2', '1']\n",
    "\n",
    "def obj_check(obj):\n",
    "    if isinstance(obj, (int,float)):\n",
    "        return obj\n",
    "    elif isinstance(obj, str):\n",
    "        return len(obj)\n",
    "    else:\n",
    "        return 0\n",
    "\n",
    "a.sort(key=obj_check)\n",
    "print(a)\n"
   ]
  },
  {
   "cell_type": "code",
   "execution_count": null,
   "id": "bf9d1f27",
   "metadata": {},
   "outputs": [],
   "source": [
    "age = 26\n",
    "result = 'valid voter' if age>=18 else 'Minor' # single line if assignment short hand notation"
   ]
  },
  {
   "cell_type": "code",
   "execution_count": null,
   "id": "b7d73b27",
   "metadata": {},
   "outputs": [
    {
     "name": "stdout",
     "output_type": "stream",
     "text": [
      "1 2 (3, 4, 5, 6, 7, 8, 9, 'hello') 111 222 {}\n",
      "1 2 (3, 4, 5, 6, 7, 8, 9, 'hello') asdf 222 {}\n"
     ]
    }
   ],
   "source": [
    "# *args consumes all positional arguments and hence d1 and d2 can only modified using its name(parameter keyword mapping)\n",
    "def mf(r1,r2,*args,d1=111,d2=222,**kwargs):\n",
    "    print(r1,r2,args,d1,d2,kwargs)\n",
    "\n",
    "mf(1,2,3,4,5,6,7,8,9,'hello')\n",
    "mf(1,2,3,4,5,6,7,8,9,'hello',d1='asdf')\n"
   ]
  },
  {
   "cell_type": "code",
   "execution_count": null,
   "id": "c8fdaff7",
   "metadata": {},
   "outputs": [
    {
     "name": "stdout",
     "output_type": "stream",
     "text": [
      "2 3 (1, 2, 3, 4, 5, 6, 7, 8, 9, 'hello') asdf 222 {}\n"
     ]
    }
   ],
   "source": [
    "\n",
    "def mf(*args, r1, r2, d1=111, d2=222, **kwarg):\n",
    "    print(r1,r2,args,d1,d2,kwarg)\n",
    "\n",
    "# mf(1,2,3,4,5,6,7,8,9,'hello') # error as r1 and r2 can only be passed using parameter keyword *args consumes all positional arguments\n",
    "mf(1,2,3,4,5,6,7,8,9,'hello',d1='asdf', r1=2,r2=3)"
   ]
  },
  {
   "cell_type": "code",
   "execution_count": null,
   "id": "f66fb1dd",
   "metadata": {},
   "outputs": [],
   "source": []
  },
  {
   "cell_type": "markdown",
   "id": "ed775630",
   "metadata": {},
   "source": [
    "# lambda and anonomous fn"
   ]
  },
  {
   "cell_type": "code",
   "execution_count": 10,
   "id": "bcfb9e48",
   "metadata": {},
   "outputs": [
    {
     "data": {
      "text/plain": [
       "30"
      ]
     },
     "execution_count": 10,
     "metadata": {},
     "output_type": "execute_result"
    }
   ],
   "source": [
    "addSum = lambda a,b: a+b\n",
    "\n",
    "addSum(10,20)"
   ]
  },
  {
   "cell_type": "code",
   "execution_count": 15,
   "id": "b0f1ac0b",
   "metadata": {},
   "outputs": [
    {
     "name": "stdout",
     "output_type": "stream",
     "text": [
      "False\n",
      "True\n",
      "False\n",
      "True\n"
     ]
    }
   ],
   "source": [
    "# function to check if number is even\n",
    "def isEvenDef(n):\n",
    "    return (n%2) == 0\n",
    "print(isEvenDef(35))\n",
    "print(isEvenDef(36))\n",
    "\n",
    "isEven = lambda n: (n%2) == 0\n",
    "print(isEven(35))\n",
    "print(isEven(36))\n"
   ]
  },
  {
   "cell_type": "code",
   "execution_count": 19,
   "id": "89987377",
   "metadata": {},
   "outputs": [
    {
     "name": "stdout",
     "output_type": "stream",
     "text": [
      "Odd\n",
      "Even\n"
     ]
    }
   ],
   "source": [
    "#  function that takes number and returns string even and false\n",
    "\n",
    "isEvenOdd = lambda n: 'Even' if (n%2)==0 else 'Odd'\n",
    "\n",
    "print(isEvenOdd(35))\n",
    "print(isEvenOdd(36))\n"
   ]
  },
  {
   "cell_type": "markdown",
   "id": "d223213c",
   "metadata": {},
   "source": [
    "# map\n",
    "- map output is a iterator object\n",
    "- below is the example of ananomous lambda function\n",
    "    - the function is not kept in memory and no variable is pointing to it"
   ]
  },
  {
   "cell_type": "code",
   "execution_count": null,
   "id": "d396d716",
   "metadata": {},
   "outputs": [
    {
     "name": "stdout",
     "output_type": "stream",
     "text": [
      "[1000, 2000, 3000, 4000, 5000, 5000, 6000, 7000, 8000, 8000, 10000]\n"
     ]
    }
   ],
   "source": [
    "kmList = [1,2,3,4,5,5,6,7,8,8,10]\n",
    "\n",
    "l =map(lambda i:i*1000, kmList) # iterator is returned \n",
    "print(list(l))\n"
   ]
  },
  {
   "cell_type": "code",
   "execution_count": null,
   "id": "b9c34c4a",
   "metadata": {},
   "outputs": [],
   "source": []
  }
 ],
 "metadata": {
  "kernelspec": {
   "display_name": "base",
   "language": "python",
   "name": "python3"
  },
  "language_info": {
   "codemirror_mode": {
    "name": "ipython",
    "version": 3
   },
   "file_extension": ".py",
   "mimetype": "text/x-python",
   "name": "python",
   "nbconvert_exporter": "python",
   "pygments_lexer": "ipython3",
   "version": "3.12.7"
  }
 },
 "nbformat": 4,
 "nbformat_minor": 5
}

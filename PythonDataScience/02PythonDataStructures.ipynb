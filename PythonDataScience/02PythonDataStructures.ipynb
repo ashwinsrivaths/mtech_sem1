{
 "cells": [
  {
   "cell_type": "code",
   "execution_count": 3,
   "id": "5340fa15",
   "metadata": {},
   "outputs": [
    {
     "data": {
      "text/plain": [
       "'d'"
      ]
     },
     "execution_count": 3,
     "metadata": {},
     "output_type": "execute_result"
    }
   ],
   "source": [
    "marks = 95\n",
    "if marks >= 70:\n",
    "    grade = 'd'\n",
    "else:\n",
    "    if marks >= 60:\n",
    "        grade = 'fc'\n",
    "    else:\n",
    "        if marks >= 50:\n",
    "            grade = 'sc'\n",
    "        else:\n",
    "            if marks >= 35:\n",
    "                grade = 'pc'\n",
    "            else:\n",
    "                grade = 'F'\n",
    "\n",
    "grade"
   ]
  },
  {
   "cell_type": "code",
   "execution_count": 4,
   "id": "5211c3ad",
   "metadata": {},
   "outputs": [
    {
     "data": {
      "text/plain": [
       "'disty'"
      ]
     },
     "execution_count": 4,
     "metadata": {},
     "output_type": "execute_result"
    }
   ],
   "source": [
    "marks = 95\n",
    "grade = 'disty' if marks>=70 else 'fc' if marks>=60 else 'sc' if marks>= 50 else 'pc' if marks>=35 else 'fail'\n",
    "grade"
   ]
  },
  {
   "cell_type": "code",
   "execution_count": 13,
   "id": "50bbdb28",
   "metadata": {},
   "outputs": [
    {
     "name": "stdout",
     "output_type": "stream",
     "text": [
      "<class 'range'>\n",
      "3\n",
      "4\n",
      "[0, 1, 2, 3, 4, 5, 6, 7, 8, 9]\n",
      "[10, 11, 12, 13, 14, 15, 16, 17, 18, 19]\n",
      "[10, 15, 20, 25, 30, 35, 40, 45, 50, 55, 60, 65, 70, 75, 80, 85, 90, 95]\n",
      "[10, 5]\n"
     ]
    }
   ],
   "source": [
    "r = range(3,7)\n",
    "print(type(r))\n",
    "for i in range(3,5):\n",
    "    print(i)\n",
    "\n",
    "\n",
    "print(list(range(10)))\n",
    "print(list(range(10,20)))\n",
    "print(list(range(10,100,5)))\n",
    "print(list(range(10,1,-5)))\n",
    "\n",
    "\n"
   ]
  },
  {
   "cell_type": "code",
   "execution_count": null,
   "id": "7478b545",
   "metadata": {},
   "outputs": [],
   "source": []
  },
  {
   "cell_type": "markdown",
   "id": "3e1346bd",
   "metadata": {},
   "source": [
    "# generator\n",
    "- the range generater object holds only 3 informations - \n",
    "    - start\n",
    "    - end\n",
    "    - step"
   ]
  },
  {
   "cell_type": "code",
   "execution_count": 1,
   "id": "d55dd5ed",
   "metadata": {},
   "outputs": [
    {
     "name": "stdout",
     "output_type": "stream",
     "text": [
      "48\n",
      "856\n",
      "48\n",
      "800000056\n",
      "99999999\n",
      "99999999\n"
     ]
    }
   ],
   "source": [
    "import sys\n",
    "r = range(100)\n",
    "m1 = list(r)\n",
    "print(sys.getsizeof(r))\n",
    "print(sys.getsizeof(m1))\n",
    "\n",
    "r = range(100000000)\n",
    "m1 = list(r)\n",
    "print(sys.getsizeof(r))\n",
    "print(sys.getsizeof(m1))\n",
    "\n",
    "print(m1[-1])\n",
    "print(r[-1])\n"
   ]
  },
  {
   "cell_type": "code",
   "execution_count": 4,
   "id": "a480054f",
   "metadata": {},
   "outputs": [
    {
     "name": "stdout",
     "output_type": "stream",
     "text": [
      "i u a i u a a i o a i u o "
     ]
    }
   ],
   "source": [
    "string = 'iufhaisufhnalkjsdfhaiosfnajkdsfiudsokpf'\n",
    "i = 0\n",
    "\n",
    "while i < len(string):\n",
    "    if string[i] in ['a','e','i','o','u']:\n",
    "        print(string[i], end = ' ')\n",
    "    i+=1\n",
    "\n"
   ]
  },
  {
   "cell_type": "code",
   "execution_count": 7,
   "id": "1f383f6e",
   "metadata": {},
   "outputs": [
    {
     "name": "stdout",
     "output_type": "stream",
     "text": [
      "i u a i u a a i o a i u o "
     ]
    }
   ],
   "source": [
    "ms1 = 'iufhaisufhnalkjsdfhaiosfnajkdsfiudsokpf'\n",
    "i = 0\n",
    "\n",
    "while i < len(ms1):\n",
    "    if ms1[i] in \"aeiouAEIOU\":\n",
    "        print(ms1[i], end=' ')\n",
    "    i+=1"
   ]
  },
  {
   "cell_type": "code",
   "execution_count": null,
   "id": "450fda80",
   "metadata": {},
   "outputs": [],
   "source": [
    "dir(__builtins__)"
   ]
  },
  {
   "cell_type": "markdown",
   "id": "5e68aa14",
   "metadata": {},
   "source": [
    "# unpacking and packing of tuples\n"
   ]
  },
  {
   "cell_type": "code",
   "execution_count": null,
   "id": "f92cb80e",
   "metadata": {},
   "outputs": [
    {
     "name": "stdout",
     "output_type": "stream",
     "text": [
      "bank\n",
      "branch\n",
      "bank\n",
      "branch\n",
      "bank1\n",
      "branch1\n",
      "('bank', 'bank1')\n",
      "('branch', 'branch1')\n",
      "bank bank1\n",
      "branch branch1\n"
     ]
    }
   ],
   "source": [
    "md1 = {'bank':'bank1', 'branch':'branch1'}\n",
    "for i in md1:\n",
    "    print(i) # by default we iterate over keys\n",
    "\n",
    "\n",
    "for i in md1.keys():\n",
    "    print(i)\n",
    "\n",
    "for i in md1.values():\n",
    "    print(i)\n",
    "\n",
    "for i in md1.items():\n",
    "    print(i)\n",
    "\n",
    "# this is a very interesting example of unpacking of a tuple\n",
    "# the md1.items returns a list of tuples\n",
    "# the for loop gives these tuples one by one\n",
    "# the two varaibles are then assigned to this tuple having two objects and automatic unpacking happens\n",
    "for k,v in md1.items():\n",
    "    print(k,v)\n",
    "\n",
    "v1 = 1,2,3,4 # v is assigned to a tuple (packing)\n",
    "q,w,e,r = v # umpacking is happening and the variables are assigned accordingly\n"
   ]
  },
  {
   "cell_type": "code",
   "execution_count": 10,
   "id": "dca83740",
   "metadata": {},
   "outputs": [
    {
     "name": "stdout",
     "output_type": "stream",
     "text": [
      "8\n",
      "7\n",
      "5\n",
      "4\n",
      "3\n",
      "2\n",
      "1\n",
      "0\n",
      "c2 done\n"
     ]
    }
   ],
   "source": [
    "lcount = 9\n",
    "while (lcount>0):\n",
    "    lcount = lcount -1\n",
    "    if lcount == 6:\n",
    "        continue\n",
    "    print(lcount)\n",
    "print('c2 done')"
   ]
  },
  {
   "cell_type": "code",
   "execution_count": 14,
   "id": "ea34d18a",
   "metadata": {},
   "outputs": [
    {
     "data": {
      "text/plain": [
       "['1', '11', '2', '3', '4', '']"
      ]
     },
     "execution_count": 14,
     "metadata": {},
     "output_type": "execute_result"
    }
   ],
   "source": [
    "shoppingList = []\n",
    "\n",
    "while(True):\n",
    "    item = input(\"enter shopping item\")\n",
    "    if item == \"endshopping\":\n",
    "        break\n",
    "    elif item in shoppingList:\n",
    "        continue\n",
    "    else:\n",
    "        shoppingList.append(item)\n",
    "\n",
    "\n",
    "shoppingList"
   ]
  },
  {
   "cell_type": "code",
   "execution_count": null,
   "id": "2bc414c9",
   "metadata": {},
   "outputs": [],
   "source": []
  }
 ],
 "metadata": {
  "kernelspec": {
   "display_name": "base",
   "language": "python",
   "name": "python3"
  },
  "language_info": {
   "codemirror_mode": {
    "name": "ipython",
    "version": 3
   },
   "file_extension": ".py",
   "mimetype": "text/x-python",
   "name": "python",
   "nbconvert_exporter": "python",
   "pygments_lexer": "ipython3",
   "version": "3.12.7"
  }
 },
 "nbformat": 4,
 "nbformat_minor": 5
}

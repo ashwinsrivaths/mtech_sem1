{
 "cells": [
  {
   "cell_type": "code",
   "execution_count": 3,
   "id": "5340fa15",
   "metadata": {},
   "outputs": [
    {
     "data": {
      "text/plain": [
       "'d'"
      ]
     },
     "execution_count": 3,
     "metadata": {},
     "output_type": "execute_result"
    }
   ],
   "source": [
    "marks = 95\n",
    "if marks >= 70:\n",
    "    grade = 'd'\n",
    "else:\n",
    "    if marks >= 60:\n",
    "        grade = 'fc'\n",
    "    else:\n",
    "        if marks >= 50:\n",
    "            grade = 'sc'\n",
    "        else:\n",
    "            if marks >= 35:\n",
    "                grade = 'pc'\n",
    "            else:\n",
    "                grade = 'F'\n",
    "\n",
    "grade"
   ]
  },
  {
   "cell_type": "code",
   "execution_count": 4,
   "id": "5211c3ad",
   "metadata": {},
   "outputs": [
    {
     "data": {
      "text/plain": [
       "'disty'"
      ]
     },
     "execution_count": 4,
     "metadata": {},
     "output_type": "execute_result"
    }
   ],
   "source": [
    "marks = 95\n",
    "grade = 'disty' if marks>=70 else 'fc' if marks>=60 else 'sc' if marks>= 50 else 'pc' if marks>=35 else 'fail'\n",
    "grade"
   ]
  },
  {
   "cell_type": "code",
   "execution_count": 13,
   "id": "50bbdb28",
   "metadata": {},
   "outputs": [
    {
     "name": "stdout",
     "output_type": "stream",
     "text": [
      "<class 'range'>\n",
      "3\n",
      "4\n",
      "[0, 1, 2, 3, 4, 5, 6, 7, 8, 9]\n",
      "[10, 11, 12, 13, 14, 15, 16, 17, 18, 19]\n",
      "[10, 15, 20, 25, 30, 35, 40, 45, 50, 55, 60, 65, 70, 75, 80, 85, 90, 95]\n",
      "[10, 5]\n"
     ]
    }
   ],
   "source": [
    "r = range(3,7)\n",
    "print(type(r))\n",
    "for i in range(3,5):\n",
    "    print(i)\n",
    "\n",
    "\n",
    "print(list(range(10)))\n",
    "print(list(range(10,20)))\n",
    "print(list(range(10,100,5)))\n",
    "print(list(range(10,1,-5)))\n",
    "\n",
    "\n"
   ]
  },
  {
   "cell_type": "code",
   "execution_count": null,
   "id": "7478b545",
   "metadata": {},
   "outputs": [],
   "source": []
  },
  {
   "cell_type": "markdown",
   "id": "3e1346bd",
   "metadata": {},
   "source": [
    "# generator\n",
    "- the range generater object holds only 3 informations - \n",
    "    - start\n",
    "    - end\n",
    "    - step"
   ]
  },
  {
   "cell_type": "code",
   "execution_count": 1,
   "id": "d55dd5ed",
   "metadata": {},
   "outputs": [
    {
     "name": "stdout",
     "output_type": "stream",
     "text": [
      "48\n",
      "856\n",
      "48\n",
      "800000056\n",
      "99999999\n",
      "99999999\n"
     ]
    }
   ],
   "source": [
    "import sys\n",
    "r = range(100)\n",
    "m1 = list(r)\n",
    "print(sys.getsizeof(r))\n",
    "print(sys.getsizeof(m1))\n",
    "\n",
    "r = range(100000000)\n",
    "m1 = list(r)\n",
    "print(sys.getsizeof(r))\n",
    "print(sys.getsizeof(m1))\n",
    "\n",
    "print(m1[-1])\n",
    "print(r[-1])\n"
   ]
  },
  {
   "cell_type": "code",
   "execution_count": 4,
   "id": "a480054f",
   "metadata": {},
   "outputs": [
    {
     "name": "stdout",
     "output_type": "stream",
     "text": [
      "i u a i u a a i o a i u o "
     ]
    }
   ],
   "source": [
    "string = 'iufhaisufhnalkjsdfhaiosfnajkdsfiudsokpf'\n",
    "i = 0\n",
    "\n",
    "while i < len(string):\n",
    "    if string[i] in ['a','e','i','o','u']:\n",
    "        print(string[i], end = ' ')\n",
    "    i+=1\n",
    "\n"
   ]
  },
  {
   "cell_type": "code",
   "execution_count": 7,
   "id": "1f383f6e",
   "metadata": {},
   "outputs": [
    {
     "name": "stdout",
     "output_type": "stream",
     "text": [
      "i u a i u a a i o a i u o "
     ]
    }
   ],
   "source": [
    "ms1 = 'iufhaisufhnalkjsdfhaiosfnajkdsfiudsokpf'\n",
    "i = 0\n",
    "\n",
    "while i < len(ms1):\n",
    "    if ms1[i] in \"aeiouAEIOU\":\n",
    "        print(ms1[i], end=' ')\n",
    "    i+=1"
   ]
  },
  {
   "cell_type": "code",
   "execution_count": null,
   "id": "450fda80",
   "metadata": {},
   "outputs": [],
   "source": [
    "dir(__builtins__)"
   ]
  },
  {
   "cell_type": "markdown",
   "id": "5e68aa14",
   "metadata": {},
   "source": [
    "# unpacking and packing of tuples\n"
   ]
  },
  {
   "cell_type": "code",
   "execution_count": null,
   "id": "f92cb80e",
   "metadata": {},
   "outputs": [
    {
     "name": "stdout",
     "output_type": "stream",
     "text": [
      "bank\n",
      "branch\n",
      "bank\n",
      "branch\n",
      "bank1\n",
      "branch1\n",
      "('bank', 'bank1')\n",
      "('branch', 'branch1')\n",
      "bank bank1\n",
      "branch branch1\n"
     ]
    }
   ],
   "source": [
    "md1 = {'bank':'bank1', 'branch':'branch1'}\n",
    "for i in md1:\n",
    "    print(i) # by default we iterate over keys\n",
    "\n",
    "\n",
    "for i in md1.keys():\n",
    "    print(i)\n",
    "\n",
    "for i in md1.values():\n",
    "    print(i)\n",
    "\n",
    "for i in md1.items():\n",
    "    print(i)\n",
    "\n",
    "# this is a very interesting example of unpacking of a tuple\n",
    "# the md1.items returns a list of tuples\n",
    "# the for loop gives these tuples one by one\n",
    "# the two varaibles are then assigned to this tuple having two objects and automatic unpacking happens\n",
    "for k,v in md1.items():\n",
    "    print(k,v)\n",
    "\n",
    "v1 = 1,2,3,4 # v is assigned to a tuple (packing)\n",
    "q,w,e,r = v # umpacking is happening and the variables are assigned accordingly\n"
   ]
  },
  {
   "cell_type": "code",
   "execution_count": 10,
   "id": "dca83740",
   "metadata": {},
   "outputs": [
    {
     "name": "stdout",
     "output_type": "stream",
     "text": [
      "8\n",
      "7\n",
      "5\n",
      "4\n",
      "3\n",
      "2\n",
      "1\n",
      "0\n",
      "c2 done\n"
     ]
    }
   ],
   "source": [
    "lcount = 9\n",
    "while (lcount>0):\n",
    "    lcount = lcount -1\n",
    "    if lcount == 6:\n",
    "        continue\n",
    "    print(lcount)\n",
    "print('c2 done')"
   ]
  },
  {
   "cell_type": "code",
   "execution_count": 14,
   "id": "ea34d18a",
   "metadata": {},
   "outputs": [
    {
     "data": {
      "text/plain": [
       "['1', '11', '2', '3', '4', '']"
      ]
     },
     "execution_count": 14,
     "metadata": {},
     "output_type": "execute_result"
    }
   ],
   "source": [
    "shoppingList = []\n",
    "\n",
    "while(True):\n",
    "    item = input(\"enter shopping item\")\n",
    "    if item == \"endshopping\":\n",
    "        break\n",
    "    elif item in shoppingList:\n",
    "        continue\n",
    "    else:\n",
    "        shoppingList.append(item)\n",
    "\n",
    "\n",
    "shoppingList"
   ]
  },
  {
   "cell_type": "code",
   "execution_count": null,
   "id": "957851d3",
   "metadata": {},
   "outputs": [
    {
     "name": "stdout",
     "output_type": "stream",
     "text": [
      "['o', 'a', 'a', 'a', 'a', 'i']\n",
      "[]\n"
     ]
    }
   ],
   "source": [
    "s = 'python data analysis'\n",
    "filterIterator = filter(lambda s: s in 'aeiouAEIOU', s)\n",
    "print(list(filterIterator))\n",
    "print(list(filterIterator)) # iterator object empty"
   ]
  },
  {
   "cell_type": "markdown",
   "id": "c1958532",
   "metadata": {},
   "source": [
    "# reduce\n",
    "- m1 = [0,1,2,3,4]\n",
    "- functools.reduce(lambda x,y: x+y,m1)\n",
    "- first iter -> x=0, y=1\n",
    "- second iter -> x=sum-previous step, y=2"
   ]
  },
  {
   "cell_type": "code",
   "execution_count": 20,
   "id": "e0630c69",
   "metadata": {},
   "outputs": [
    {
     "name": "stdout",
     "output_type": "stream",
     "text": [
      "sum = 138\n",
      "min val = 0\n"
     ]
    }
   ],
   "source": [
    "import functools\n",
    "# help(functools.reduce)\n",
    "m1 = [11,22,3,4,5,67,8,9,0,9]\n",
    "sum(m1)\n",
    "s = functools.reduce(lambda x,y: x+y,m1)\n",
    "print('sum =', s)\n",
    "minVal = functools.reduce(lambda x,y: min(x,y),m1)\n",
    "minVal = functools.reduce(lambda x,y: x if x<y else y, m1)\n",
    "minVal = functools.reduce(min, m1)\n",
    "print('min val =', minVal)"
   ]
  },
  {
   "cell_type": "markdown",
   "id": "815e4782",
   "metadata": {},
   "source": [
    "# recursion\n",
    "- a function calls itself with a lower magnitude of the problem"
   ]
  },
  {
   "cell_type": "code",
   "execution_count": null,
   "id": "810fbbfc",
   "metadata": {},
   "outputs": [
    {
     "data": {
      "text/plain": [
       "3628800"
      ]
     },
     "execution_count": 27,
     "metadata": {},
     "output_type": "execute_result"
    }
   ],
   "source": [
    "i = 10\n",
    "\n",
    "a = lambda x: x*a(x-1) if x>0 else 1\n",
    "a(i)\n",
    "\n",
    "# TODO: febonici sequence using recursion\n",
    "b = lambda x,y: "
   ]
  },
  {
   "cell_type": "markdown",
   "id": "77475e92",
   "metadata": {},
   "source": [
    "# global/local\n",
    "- global keyword adds the variable to the global namespace"
   ]
  },
  {
   "cell_type": "code",
   "execution_count": 34,
   "id": "ff085e8f",
   "metadata": {},
   "outputs": [
    {
     "name": "stdout",
     "output_type": "stream",
     "text": [
      "50 20 20 50\n",
      "{'v2': 20, 'l3': 20, 'g1': 50}\n",
      "{'__name__': '__main__', '__doc__': 'Automatically created module for IPython interactive environment', '__package__': None, '__loader__': None, '__spec__': None, '__builtin__': <module 'builtins' (built-in)>, '__builtins__': <module 'builtins' (built-in)>, '_ih': ['', 'help(filter)', \"s = 'python data analysis'\\nfilter(lambda s:s in 'aeiouAEIOU', s)\", \"s = 'python data analysis'\\nl = filter(lambda s:s in 'aeiouAEIOU', s)\\nl\", \"s = 'python data analysis'\\nl = filter(lambda s:s in 'aeiouAEIOU', s)\\nlist(l)\", \"s = 'python data analysis'\\nfilterIterator = filter(lambda s:s in 'aeiouAEIOU', s)\\nlist(filterIterator)\", \"s = 'python data analysis'\\nfilterIterator = filter(lambda s: s in 'aeiouAEIOU', s)\\nprint(list(filterIterator))\\nprint(list(filterIterator))\", 'help(reduce)', 'import functools\\nhelp(reduce)', 'import functools\\nhelp(functools.reduce)', 'import functools\\n# help(functools.reduce)\\nm1 = [11,22,3,4,5,67,8,9,0,9]\\nsum(m1)', 'import functools\\n# help(functools.reduce)\\nm1 = [11,22,3,4,5,67,8,9,0,9]\\nsum(m1)\\ns = functools.reduce(lambda x,y: x+y)', 'import functools\\n# help(functools.reduce)\\nm1 = [11,22,3,4,5,67,8,9,0,9]\\nsum(m1)\\ns = functools.reduce(lambda x,y: x+y,m1)', 'import functools\\n# help(functools.reduce)\\nm1 = [11,22,3,4,5,67,8,9,0,9]\\nsum(m1)\\ns = functools.reduce(lambda x,y: x+y,m1)\\ns', 'import functools\\nhelp(functools.reduce)\\nm1 = [11,22,3,4,5,67,8,9,0,9]\\nsum(m1)\\ns = functools.reduce(lambda x,y: x+y,m1)\\ns', 'import functools\\n# help(functools.reduce)\\nm1 = [11,22,3,4,5,67,8,9,0,9]\\nsum(m1)\\ns = functools.reduce(lambda x,y: x+y,m1)\\ns', \"import functools\\n# help(functools.reduce)\\nm1 = [11,22,3,4,5,67,8,9,0,9]\\nsum(m1)\\ns = functools.reduce(lambda x,y: x+y,m1)\\nprint('sum =', s)\\nminVal = functools.reduce(lambda x,y: min(x,y))\", \"import functools\\n# help(functools.reduce)\\nm1 = [11,22,3,4,5,67,8,9,0,9]\\nsum(m1)\\ns = functools.reduce(lambda x,y: x+y,m1)\\nprint('sum =', s)\\nminVal = functools.reduce(lambda x,y: min(x,y),m1)\", \"import functools\\n# help(functools.reduce)\\nm1 = [11,22,3,4,5,67,8,9,0,9]\\nsum(m1)\\ns = functools.reduce(lambda x,y: x+y,m1)\\nprint('sum =', s)\\nminVal = functools.reduce(lambda x,y: min(x,y),m1)\\nprint('min val =', minVal)\", \"import functools\\n# help(functools.reduce)\\nm1 = [11,22,3,4,5,67,8,9,0,9]\\nsum(m1)\\ns = functools.reduce(lambda x,y: x+y,m1)\\nprint('sum =', s)\\nminVal = functools.reduce(lambda x,y: min(x,y),m1)\\nminVal = functools.reduce(lambda x,y: x if x<y else y, m1)\\nminVal = functools.reduce(lambda x,y: min, m1)\\nprint('min val =', minVal)\", \"import functools\\n# help(functools.reduce)\\nm1 = [11,22,3,4,5,67,8,9,0,9]\\nsum(m1)\\ns = functools.reduce(lambda x,y: x+y,m1)\\nprint('sum =', s)\\nminVal = functools.reduce(lambda x,y: min(x,y),m1)\\nminVal = functools.reduce(lambda x,y: x if x<y else y, m1)\\nminVal = functools.reduce(min, m1)\\nprint('min val =', minVal)\", 'i = 10\\n\\na = lambda x: a(x-1)', 'i = 10\\n\\na = lambda x: a(x-1)\\n\\na(i)', 'i = 10\\n\\na = lambda x: a(x-1) if x>0 else 1\\n\\na(i)', 'i = 10\\n\\na = lambda x: x*a(x-1) if x>0 else 1\\n\\na(i)', 'i = 10\\n\\nb = lambda x: x*a(x-1) if x>0 else 1\\n\\na(i)', 'i = 10\\n\\nb = lambda x: x*a(x-1) if x>0 else 1\\n\\nb(i)', 'i = 10\\n\\na = lambda x: x*a(x-1) if x>0 else 1\\n\\na(i)', 'g1 = 10\\n\\ndef mf1(v2):\\n    l3 = 20\\n    print(g1,v2,l3)\\n\\nprint(g1)\\nmf1(20)\\nprint(l3)', 'g1 = 10\\n\\ndef mf1(v2):\\n    l3 = 20\\n    print(g1,v2,l3)\\n    print(locals())\\n\\n\\nprint(g1)\\nmf1(20)\\n# print(l3)', 'g1 = 10\\ng2 = 20\\n\\ndef mf1(v2):\\n    l3 = 20\\n    g2 = 50\\n    print(g1,v2,l3,g2)\\n    print(locals())\\n\\n\\nprint(g1, g2)\\nmf1(20)\\n# print(l3)', 'g1 = 10\\ng2 = 20\\n\\ndef mf1(v2):\\n    l3 = 20\\n    g2 = 50\\n    print(g1,v2,l3,g2)\\n    print(locals())\\n\\nmf1(20)\\nprint(g1, g2)\\n# print(l3)', 'g1 = 10\\ng2 = 20\\n\\ndef mf1(v2):\\n    global g2\\n    l3 = 20\\n    g1 = 50\\n    g2 = 50\\n    print(g1,v2,l3,g2)\\n    print(locals())\\n\\nmf1(20)\\nprint(g1, g2)\\n# print(l3)', 'g1 = 10\\ng2 = 20\\n\\ndef mf1(v2):\\n    global g2\\n    l3 = 20\\n    g1 = 50\\n    g2 = 50\\n    print(g1,v2,l3,g2)\\n    print(locals())\\n    globals()\\n\\nmf1(20)\\nprint(g1, g2)\\n# print(l3)', 'g1 = 10\\ng2 = 20\\n\\ndef mf1(v2):\\n    global g2\\n    l3 = 20\\n    g1 = 50\\n    g2 = 50\\n    print(g1,v2,l3,g2)\\n    print(locals())\\n    print(globals())\\n\\nmf1(20)\\nprint(g1, g2)\\n# print(l3)'], '_oh': {2: <filter object at 0x000002D93290C520>, 3: <filter object at 0x000002D93290C7F0>, 4: ['o', 'a', 'a', 'a', 'a', 'i'], 5: ['o', 'a', 'a', 'a', 'a', 'i'], 10: 138, 13: 138, 14: 138, 15: 138, 23: 1, 24: 3628800, 25: 3628800, 26: 3628800, 27: 3628800}, '_dh': [WindowsPath('c:/Users/ashwi/Desktop/mtech/mtech_sem1/PythonDataScience')], 'In': ['', 'help(filter)', \"s = 'python data analysis'\\nfilter(lambda s:s in 'aeiouAEIOU', s)\", \"s = 'python data analysis'\\nl = filter(lambda s:s in 'aeiouAEIOU', s)\\nl\", \"s = 'python data analysis'\\nl = filter(lambda s:s in 'aeiouAEIOU', s)\\nlist(l)\", \"s = 'python data analysis'\\nfilterIterator = filter(lambda s:s in 'aeiouAEIOU', s)\\nlist(filterIterator)\", \"s = 'python data analysis'\\nfilterIterator = filter(lambda s: s in 'aeiouAEIOU', s)\\nprint(list(filterIterator))\\nprint(list(filterIterator))\", 'help(reduce)', 'import functools\\nhelp(reduce)', 'import functools\\nhelp(functools.reduce)', 'import functools\\n# help(functools.reduce)\\nm1 = [11,22,3,4,5,67,8,9,0,9]\\nsum(m1)', 'import functools\\n# help(functools.reduce)\\nm1 = [11,22,3,4,5,67,8,9,0,9]\\nsum(m1)\\ns = functools.reduce(lambda x,y: x+y)', 'import functools\\n# help(functools.reduce)\\nm1 = [11,22,3,4,5,67,8,9,0,9]\\nsum(m1)\\ns = functools.reduce(lambda x,y: x+y,m1)', 'import functools\\n# help(functools.reduce)\\nm1 = [11,22,3,4,5,67,8,9,0,9]\\nsum(m1)\\ns = functools.reduce(lambda x,y: x+y,m1)\\ns', 'import functools\\nhelp(functools.reduce)\\nm1 = [11,22,3,4,5,67,8,9,0,9]\\nsum(m1)\\ns = functools.reduce(lambda x,y: x+y,m1)\\ns', 'import functools\\n# help(functools.reduce)\\nm1 = [11,22,3,4,5,67,8,9,0,9]\\nsum(m1)\\ns = functools.reduce(lambda x,y: x+y,m1)\\ns', \"import functools\\n# help(functools.reduce)\\nm1 = [11,22,3,4,5,67,8,9,0,9]\\nsum(m1)\\ns = functools.reduce(lambda x,y: x+y,m1)\\nprint('sum =', s)\\nminVal = functools.reduce(lambda x,y: min(x,y))\", \"import functools\\n# help(functools.reduce)\\nm1 = [11,22,3,4,5,67,8,9,0,9]\\nsum(m1)\\ns = functools.reduce(lambda x,y: x+y,m1)\\nprint('sum =', s)\\nminVal = functools.reduce(lambda x,y: min(x,y),m1)\", \"import functools\\n# help(functools.reduce)\\nm1 = [11,22,3,4,5,67,8,9,0,9]\\nsum(m1)\\ns = functools.reduce(lambda x,y: x+y,m1)\\nprint('sum =', s)\\nminVal = functools.reduce(lambda x,y: min(x,y),m1)\\nprint('min val =', minVal)\", \"import functools\\n# help(functools.reduce)\\nm1 = [11,22,3,4,5,67,8,9,0,9]\\nsum(m1)\\ns = functools.reduce(lambda x,y: x+y,m1)\\nprint('sum =', s)\\nminVal = functools.reduce(lambda x,y: min(x,y),m1)\\nminVal = functools.reduce(lambda x,y: x if x<y else y, m1)\\nminVal = functools.reduce(lambda x,y: min, m1)\\nprint('min val =', minVal)\", \"import functools\\n# help(functools.reduce)\\nm1 = [11,22,3,4,5,67,8,9,0,9]\\nsum(m1)\\ns = functools.reduce(lambda x,y: x+y,m1)\\nprint('sum =', s)\\nminVal = functools.reduce(lambda x,y: min(x,y),m1)\\nminVal = functools.reduce(lambda x,y: x if x<y else y, m1)\\nminVal = functools.reduce(min, m1)\\nprint('min val =', minVal)\", 'i = 10\\n\\na = lambda x: a(x-1)', 'i = 10\\n\\na = lambda x: a(x-1)\\n\\na(i)', 'i = 10\\n\\na = lambda x: a(x-1) if x>0 else 1\\n\\na(i)', 'i = 10\\n\\na = lambda x: x*a(x-1) if x>0 else 1\\n\\na(i)', 'i = 10\\n\\nb = lambda x: x*a(x-1) if x>0 else 1\\n\\na(i)', 'i = 10\\n\\nb = lambda x: x*a(x-1) if x>0 else 1\\n\\nb(i)', 'i = 10\\n\\na = lambda x: x*a(x-1) if x>0 else 1\\n\\na(i)', 'g1 = 10\\n\\ndef mf1(v2):\\n    l3 = 20\\n    print(g1,v2,l3)\\n\\nprint(g1)\\nmf1(20)\\nprint(l3)', 'g1 = 10\\n\\ndef mf1(v2):\\n    l3 = 20\\n    print(g1,v2,l3)\\n    print(locals())\\n\\n\\nprint(g1)\\nmf1(20)\\n# print(l3)', 'g1 = 10\\ng2 = 20\\n\\ndef mf1(v2):\\n    l3 = 20\\n    g2 = 50\\n    print(g1,v2,l3,g2)\\n    print(locals())\\n\\n\\nprint(g1, g2)\\nmf1(20)\\n# print(l3)', 'g1 = 10\\ng2 = 20\\n\\ndef mf1(v2):\\n    l3 = 20\\n    g2 = 50\\n    print(g1,v2,l3,g2)\\n    print(locals())\\n\\nmf1(20)\\nprint(g1, g2)\\n# print(l3)', 'g1 = 10\\ng2 = 20\\n\\ndef mf1(v2):\\n    global g2\\n    l3 = 20\\n    g1 = 50\\n    g2 = 50\\n    print(g1,v2,l3,g2)\\n    print(locals())\\n\\nmf1(20)\\nprint(g1, g2)\\n# print(l3)', 'g1 = 10\\ng2 = 20\\n\\ndef mf1(v2):\\n    global g2\\n    l3 = 20\\n    g1 = 50\\n    g2 = 50\\n    print(g1,v2,l3,g2)\\n    print(locals())\\n    globals()\\n\\nmf1(20)\\nprint(g1, g2)\\n# print(l3)', 'g1 = 10\\ng2 = 20\\n\\ndef mf1(v2):\\n    global g2\\n    l3 = 20\\n    g1 = 50\\n    g2 = 50\\n    print(g1,v2,l3,g2)\\n    print(locals())\\n    print(globals())\\n\\nmf1(20)\\nprint(g1, g2)\\n# print(l3)'], 'Out': {2: <filter object at 0x000002D93290C520>, 3: <filter object at 0x000002D93290C7F0>, 4: ['o', 'a', 'a', 'a', 'a', 'i'], 5: ['o', 'a', 'a', 'a', 'a', 'i'], 10: 138, 13: 138, 14: 138, 15: 138, 23: 1, 24: 3628800, 25: 3628800, 26: 3628800, 27: 3628800}, 'get_ipython': <bound method InteractiveShell.get_ipython of <ipykernel.zmqshell.ZMQInteractiveShell object at 0x000002D932730AD0>>, 'exit': <IPython.core.autocall.ZMQExitAutocall object at 0x000002D9327302F0>, 'quit': <IPython.core.autocall.ZMQExitAutocall object at 0x000002D9327302F0>, 'open': <function open at 0x000002D93072F4C0>, '_': 3628800, '__': 3628800, '___': 3628800, '__vsc_ipynb_file__': 'c:\\\\Users\\\\ashwi\\\\Desktop\\\\mtech\\\\mtech_sem1\\\\PythonDataScience\\\\02PythonDataStructures.ipynb', '_i': 'g1 = 10\\ng2 = 20\\n\\ndef mf1(v2):\\n    global g2\\n    l3 = 20\\n    g1 = 50\\n    g2 = 50\\n    print(g1,v2,l3,g2)\\n    print(locals())\\n    globals()\\n\\nmf1(20)\\nprint(g1, g2)\\n# print(l3)', '_ii': 'g1 = 10\\ng2 = 20\\n\\ndef mf1(v2):\\n    global g2\\n    l3 = 20\\n    g1 = 50\\n    g2 = 50\\n    print(g1,v2,l3,g2)\\n    print(locals())\\n\\nmf1(20)\\nprint(g1, g2)\\n# print(l3)', '_iii': 'g1 = 10\\ng2 = 20\\n\\ndef mf1(v2):\\n    l3 = 20\\n    g2 = 50\\n    print(g1,v2,l3,g2)\\n    print(locals())\\n\\nmf1(20)\\nprint(g1, g2)\\n# print(l3)', '_i1': 'help(filter)', '_i2': \"s = 'python data analysis'\\nfilter(lambda s:s in 'aeiouAEIOU', s)\", 's': 138, '_2': <filter object at 0x000002D93290C520>, '_i3': \"s = 'python data analysis'\\nl = filter(lambda s:s in 'aeiouAEIOU', s)\\nl\", 'l': <filter object at 0x000002D93290D5D0>, '_3': <filter object at 0x000002D93290C7F0>, '_i4': \"s = 'python data analysis'\\nl = filter(lambda s:s in 'aeiouAEIOU', s)\\nlist(l)\", '_4': ['o', 'a', 'a', 'a', 'a', 'i'], '_i5': \"s = 'python data analysis'\\nfilterIterator = filter(lambda s:s in 'aeiouAEIOU', s)\\nlist(filterIterator)\", 'filterIterator': <filter object at 0x000002D93290CA60>, '_5': ['o', 'a', 'a', 'a', 'a', 'i'], '_i6': \"s = 'python data analysis'\\nfilterIterator = filter(lambda s: s in 'aeiouAEIOU', s)\\nprint(list(filterIterator))\\nprint(list(filterIterator))\", '_i7': 'help(reduce)', '_i8': 'import functools\\nhelp(reduce)', 'functools': <module 'functools' from 'd:\\\\programFiles\\\\Lib\\\\functools.py'>, '_i9': 'import functools\\nhelp(functools.reduce)', '_i10': 'import functools\\n# help(functools.reduce)\\nm1 = [11,22,3,4,5,67,8,9,0,9]\\nsum(m1)', 'm1': [11, 22, 3, 4, 5, 67, 8, 9, 0, 9], '_10': 138, '_i11': 'import functools\\n# help(functools.reduce)\\nm1 = [11,22,3,4,5,67,8,9,0,9]\\nsum(m1)\\ns = functools.reduce(lambda x,y: x+y)', '_i12': 'import functools\\n# help(functools.reduce)\\nm1 = [11,22,3,4,5,67,8,9,0,9]\\nsum(m1)\\ns = functools.reduce(lambda x,y: x+y,m1)', '_i13': 'import functools\\n# help(functools.reduce)\\nm1 = [11,22,3,4,5,67,8,9,0,9]\\nsum(m1)\\ns = functools.reduce(lambda x,y: x+y,m1)\\ns', '_13': 138, '_i14': 'import functools\\nhelp(functools.reduce)\\nm1 = [11,22,3,4,5,67,8,9,0,9]\\nsum(m1)\\ns = functools.reduce(lambda x,y: x+y,m1)\\ns', '_14': 138, '_i15': 'import functools\\n# help(functools.reduce)\\nm1 = [11,22,3,4,5,67,8,9,0,9]\\nsum(m1)\\ns = functools.reduce(lambda x,y: x+y,m1)\\ns', '_15': 138, '_i16': \"import functools\\n# help(functools.reduce)\\nm1 = [11,22,3,4,5,67,8,9,0,9]\\nsum(m1)\\ns = functools.reduce(lambda x,y: x+y,m1)\\nprint('sum =', s)\\nminVal = functools.reduce(lambda x,y: min(x,y))\", '_i17': \"import functools\\n# help(functools.reduce)\\nm1 = [11,22,3,4,5,67,8,9,0,9]\\nsum(m1)\\ns = functools.reduce(lambda x,y: x+y,m1)\\nprint('sum =', s)\\nminVal = functools.reduce(lambda x,y: min(x,y),m1)\", 'minVal': 0, '_i18': \"import functools\\n# help(functools.reduce)\\nm1 = [11,22,3,4,5,67,8,9,0,9]\\nsum(m1)\\ns = functools.reduce(lambda x,y: x+y,m1)\\nprint('sum =', s)\\nminVal = functools.reduce(lambda x,y: min(x,y),m1)\\nprint('min val =', minVal)\", '_i19': \"import functools\\n# help(functools.reduce)\\nm1 = [11,22,3,4,5,67,8,9,0,9]\\nsum(m1)\\ns = functools.reduce(lambda x,y: x+y,m1)\\nprint('sum =', s)\\nminVal = functools.reduce(lambda x,y: min(x,y),m1)\\nminVal = functools.reduce(lambda x,y: x if x<y else y, m1)\\nminVal = functools.reduce(lambda x,y: min, m1)\\nprint('min val =', minVal)\", '_i20': \"import functools\\n# help(functools.reduce)\\nm1 = [11,22,3,4,5,67,8,9,0,9]\\nsum(m1)\\ns = functools.reduce(lambda x,y: x+y,m1)\\nprint('sum =', s)\\nminVal = functools.reduce(lambda x,y: min(x,y),m1)\\nminVal = functools.reduce(lambda x,y: x if x<y else y, m1)\\nminVal = functools.reduce(min, m1)\\nprint('min val =', minVal)\", '_i21': 'i = 10\\n\\na = lambda x: a(x-1)', 'i': 10, 'a': <function <lambda> at 0x000002D93377AC00>, '_i22': 'i = 10\\n\\na = lambda x: a(x-1)\\n\\na(i)', '_i23': 'i = 10\\n\\na = lambda x: a(x-1) if x>0 else 1\\n\\na(i)', '_23': 1, '_i24': 'i = 10\\n\\na = lambda x: x*a(x-1) if x>0 else 1\\n\\na(i)', '_24': 3628800, '_i25': 'i = 10\\n\\nb = lambda x: x*a(x-1) if x>0 else 1\\n\\na(i)', 'b': <function <lambda> at 0x000002D93377B100>, '_25': 3628800, '_i26': 'i = 10\\n\\nb = lambda x: x*a(x-1) if x>0 else 1\\n\\nb(i)', '_26': 3628800, '_i27': 'i = 10\\n\\na = lambda x: x*a(x-1) if x>0 else 1\\n\\na(i)', '_27': 3628800, '_i28': 'g1 = 10\\n\\ndef mf1(v2):\\n    l3 = 20\\n    print(g1,v2,l3)\\n\\nprint(g1)\\nmf1(20)\\nprint(l3)', 'g1': 10, 'mf1': <function mf1 at 0x000002D9339A7BA0>, '_i29': 'g1 = 10\\n\\ndef mf1(v2):\\n    l3 = 20\\n    print(g1,v2,l3)\\n    print(locals())\\n\\n\\nprint(g1)\\nmf1(20)\\n# print(l3)', '_i30': 'g1 = 10\\ng2 = 20\\n\\ndef mf1(v2):\\n    l3 = 20\\n    g2 = 50\\n    print(g1,v2,l3,g2)\\n    print(locals())\\n\\n\\nprint(g1, g2)\\nmf1(20)\\n# print(l3)', 'g2': 50, '_i31': 'g1 = 10\\ng2 = 20\\n\\ndef mf1(v2):\\n    l3 = 20\\n    g2 = 50\\n    print(g1,v2,l3,g2)\\n    print(locals())\\n\\nmf1(20)\\nprint(g1, g2)\\n# print(l3)', '_i32': 'g1 = 10\\ng2 = 20\\n\\ndef mf1(v2):\\n    global g2\\n    l3 = 20\\n    g1 = 50\\n    g2 = 50\\n    print(g1,v2,l3,g2)\\n    print(locals())\\n\\nmf1(20)\\nprint(g1, g2)\\n# print(l3)', '_i33': 'g1 = 10\\ng2 = 20\\n\\ndef mf1(v2):\\n    global g2\\n    l3 = 20\\n    g1 = 50\\n    g2 = 50\\n    print(g1,v2,l3,g2)\\n    print(locals())\\n    globals()\\n\\nmf1(20)\\nprint(g1, g2)\\n# print(l3)', '_i34': 'g1 = 10\\ng2 = 20\\n\\ndef mf1(v2):\\n    global g2\\n    l3 = 20\\n    g1 = 50\\n    g2 = 50\\n    print(g1,v2,l3,g2)\\n    print(locals())\\n    print(globals())\\n\\nmf1(20)\\nprint(g1, g2)\\n# print(l3)'}\n",
      "10 50\n"
     ]
    }
   ],
   "source": [
    "g1 = 10\n",
    "g2 = 20\n",
    "\n",
    "def mf1(v2):\n",
    "    global g2\n",
    "    l3 = 20\n",
    "    g1 = 50\n",
    "    g2 = 50\n",
    "    print(g1,v2,l3,g2)\n",
    "    print(locals())\n",
    "    print(globals())\n",
    "\n",
    "mf1(20)\n",
    "print(g1, g2)\n",
    "# print(l3)"
   ]
  },
  {
   "cell_type": "markdown",
   "id": "13f82a0c",
   "metadata": {},
   "source": [
    "# comprehension\n",
    "- weird requction in code\n",
    "\n",
    "[<expression>  <for loop>  <gating condition>]\n",
    "\n",
    "\n",
    "- for set use curly brackets instead of square brackets\n",
    "- in curly brackets if i have a collon ':' in the expression part then a dictionary is created and  the left portion of the : is the key\n"
   ]
  },
  {
   "cell_type": "code",
   "execution_count": null,
   "id": "e7ec6239",
   "metadata": {},
   "outputs": [
    {
     "name": "stdout",
     "output_type": "stream",
     "text": [
      "[4, 9, 16, 25, 36]\n",
      "[4, 9, 16, 25, 36]\n",
      "[10, 11, 12, 13, 14, 15, 16, 17, 18, 19, 20]\n",
      "[100, 1331, 144, 2197, 196, 3375, 256, 4913, 324, 6859, 400, 9261, 484, 12167, 576, 15625, 676, 19683, 784, 24389, 900]\n"
     ]
    }
   ],
   "source": [
    "# write a program to create a list of squares of numbers  form 2 to 6\n",
    "\n",
    "sqList=[]\n",
    "for num in range(2,7):\n",
    "    sqList.append(num**2)\n",
    "print(sqList)\n",
    "\n",
    "sqList1 = [ i**2  for i in range(2,7)]\n",
    "print(sqList1)\n",
    "\n",
    "\n",
    "# run from 10 to 20 and return list of even numbers including 10 and 20]\n",
    "eList = [ i  for i in range(10, 20+1)  if num%2==0]\n",
    "print(eList)\n",
    "\n",
    "#       [   <expression>                  <for loop>      <gating condition>]\n",
    "list3 = [ i**2 if i%2==0 else i**3  for i in range(10,31)  if num%3==0]\n",
    "print(list3)"
   ]
  },
  {
   "cell_type": "code",
   "execution_count": null,
   "id": "a81341d4",
   "metadata": {},
   "outputs": [
    {
     "name": "stdout",
     "output_type": "stream",
     "text": [
      "[('u1', 'p1'), ('u1', 'p2'), ('u1', 'p3'), ('u2', 'p1'), ('u2', 'p2'), ('u2', 'p3'), ('u3', 'p1'), ('u3', 'p2'), ('u3', 'p3')]\n",
      "[('u1', 'p1'), ('u1', 'p3'), ('u3', 'p1'), ('u3', 'p3')]\n"
     ]
    }
   ],
   "source": [
    "u = ['u1','u2','u3']\n",
    "p = ['p1','p2','p3']\n",
    "retList = []\n",
    "\n",
    "for i in u:\n",
    "    for j in p:\n",
    "        retList.append((i,j))\n",
    "print(retList)\n",
    "\n",
    "retList = [(i,j)   for i in u for j in p  if i != u]\n",
    "\n",
    "retList = [(i,j)   \n",
    "           for i in u for j in p  \n",
    "           if (i != 'u2' and j != 'p2')]\n",
    "print(retList)\n",
    "\n"
   ]
  },
  {
   "cell_type": "code",
   "execution_count": null,
   "id": "a02c7aac",
   "metadata": {},
   "outputs": [
    {
     "data": {
      "text/plain": [
       "{('u1', 'p1'),\n",
       " ('u1', 'p2'),\n",
       " ('u1', 'p3'),\n",
       " ('u2', 'p1'),\n",
       " ('u2', 'p2'),\n",
       " ('u2', 'p3'),\n",
       " ('u3', 'p1'),\n",
       " ('u3', 'p2'),\n",
       " ('u3', 'p3')}"
      ]
     },
     "execution_count": 56,
     "metadata": {},
     "output_type": "execute_result"
    }
   ],
   "source": [
    "\n",
    "retSet = {  (i,j)   for i in u for j in p   }\n",
    "retSet"
   ]
  },
  {
   "cell_type": "code",
   "execution_count": 58,
   "id": "88b4d200",
   "metadata": {},
   "outputs": [
    {
     "data": {
      "text/plain": [
       "{'y': 2,\n",
       " 'd': 1,\n",
       " 'h': 1,\n",
       " 'n': 2,\n",
       " 'i': 1,\n",
       " 't': 2,\n",
       " 'l': 1,\n",
       " 's': 2,\n",
       " 'p': 1,\n",
       " 'a': 4,\n",
       " 'o': 1}"
      ]
     },
     "execution_count": 58,
     "metadata": {},
     "output_type": "execute_result"
    }
   ],
   "source": [
    "ms1 = \"pythondataanalysis\"\n",
    "\n",
    "md1 ={char:ms1.count(char) for char in set(ms1)}\n",
    "md1"
   ]
  },
  {
   "cell_type": "code",
   "execution_count": null,
   "id": "3c5ff25e",
   "metadata": {},
   "outputs": [],
   "source": []
  }
 ],
 "metadata": {
  "kernelspec": {
   "display_name": "base",
   "language": "python",
   "name": "python3"
  },
  "language_info": {
   "codemirror_mode": {
    "name": "ipython",
    "version": 3
   },
   "file_extension": ".py",
   "mimetype": "text/x-python",
   "name": "python",
   "nbconvert_exporter": "python",
   "pygments_lexer": "ipython3",
   "version": "3.12.7"
  }
 },
 "nbformat": 4,
 "nbformat_minor": 5
}

{
 "cells": [
  {
   "cell_type": "markdown",
   "id": "4d22af82",
   "metadata": {},
   "source": [
    "# answers\n"
   ]
  },
  {
   "cell_type": "code",
   "execution_count": null,
   "id": "2c44b641",
   "metadata": {},
   "outputs": [],
   "source": [
    "# question 1\n"
   ]
  }
 ],
 "metadata": {
  "language_info": {
   "name": "python"
  }
 },
 "nbformat": 4,
 "nbformat_minor": 5
}

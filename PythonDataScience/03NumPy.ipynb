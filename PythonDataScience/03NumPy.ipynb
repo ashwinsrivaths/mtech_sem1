{
 "cells": [
  {
   "cell_type": "markdown",
   "id": "296b4525",
   "metadata": {},
   "source": [
    "# numpy\n",
    "- "
   ]
  },
  {
   "cell_type": "code",
   "execution_count": 4,
   "id": "5b085654",
   "metadata": {},
   "outputs": [],
   "source": [
    "import numpy as np\n",
    "import pandas as pd\n",
    "import seaborn as sls\n",
    "import matplotlib as ptl"
   ]
  },
  {
   "cell_type": "code",
   "execution_count": null,
   "id": "0c19fbbd",
   "metadata": {},
   "outputs": [
    {
     "name": "stdout",
     "output_type": "stream",
     "text": [
      "[[11 22 33]\n",
      " [44 55 66]]\n",
      "2\n",
      "(2, 3)\n",
      "6\n",
      "4\n",
      "int32\n"
     ]
    }
   ],
   "source": [
    "# goal - create a 2x3 matrix\n",
    "mylist23 = [\n",
    "    [11,22.09,33],\n",
    "    [44,55,66]\n",
    "]\n",
    "\n",
    "n23 = np.array(mylist23)\n",
    "# n23 = np.array(mylist23, dtype=int)\n",
    "print(n23)\n",
    "print(n23.ndim) # number of dimention\n",
    "print(n23.shape) # tuple indiacating access counts\n",
    "print(n23.size) # total elements in array\n",
    "print(n23.itemsize) # elemetn size - (int64 - dtype) 4 bytes in my case\n",
    "print(n23.dtype)\n",
    "\n",
    "\n",
    "\n"
   ]
  },
  {
   "cell_type": "code",
   "execution_count": 12,
   "id": "b50c3199",
   "metadata": {},
   "outputs": [
    {
     "data": {
      "text/plain": [
       "'3.12.7 | packaged by Anaconda, Inc. | (main, Oct  4 2024, 13:17:27) [MSC v.1929 64 bit (AMD64)]'"
      ]
     },
     "execution_count": 12,
     "metadata": {},
     "output_type": "execute_result"
    }
   ],
   "source": [
    "import sys\n",
    "sys.version\n"
   ]
  },
  {
   "cell_type": "code",
   "execution_count": 45,
   "id": "4a3a4a77",
   "metadata": {},
   "outputs": [
    {
     "data": {
      "text/plain": [
       "array([[ 93,  41,  35,  22,  95,  31],\n",
       "       [ 50,  86,  61,  59,  79,  58],\n",
       "       [ 83,  49,  16,  76,  74,  51],\n",
       "       [ 64, 100,  55,  85,  22,  89]])"
      ]
     },
     "execution_count": 45,
     "metadata": {},
     "output_type": "execute_result"
    }
   ],
   "source": [
    "n1 = np.arange(10.2,20,2.5) # floating point numbers works with numpy arange but not with normal python range\n",
    "n1 = np.arange(22.2,20,-0.5) # array([22.2, 21.7, 21.2, 20.7, 20.2])\n",
    "n1 = np.arange(24).reshape(6,4) # reahape must be consistant -> 6*4 = 24\n",
    "n1 = np.arange(24).reshape(6,-1) # reahape calculates when -1 is used\n",
    "n1 = n1.flatten() # flatten it back to 1 dimention\n",
    "n1\n",
    "\n",
    "n64 = np.ones(shape=(6,4))\n",
    "n64 = np.zeros(shape=(6,4))\n",
    "n64 = np.identity(6)\n",
    "\n",
    "np.random.seed(23)\n",
    "n64 = np.random.randint(low=10, high=101,size=(6,4))\n",
    "n64\n",
    "\n",
    "n46 = n64.T\n",
    "n46 = np.transpose(n64)\n",
    "n46"
   ]
  },
  {
   "cell_type": "code",
   "execution_count": 55,
   "id": "adc408d9",
   "metadata": {},
   "outputs": [
    {
     "name": "stdout",
     "output_type": "stream",
     "text": [
      "[[ 93  50  83  64  41  86  49 100  35]\n",
      " [ 61  16  55  22  59  76  85  95  79]\n",
      " [ 74  22  31  58  51  89 100  72  67]\n",
      " [ 29  43  69  49  25  46  75  11  53]\n",
      " [ 25  96  93  68  35  76  84  45  66]\n",
      " [ 23  70  32  48  41  88  10  31  16]\n",
      " [ 42  42  24  41  88  93  90  80  76]\n",
      " [ 92  95  65  37  72  53  84  81  52]]\n"
     ]
    },
    {
     "data": {
      "text/plain": [
       "array([[ 74,  22,  31,  58,  51,  89, 100,  72,  67],\n",
       "       [ 29,  43,  69,  49,  25,  46,  75,  11,  53],\n",
       "       [ 25,  96,  93,  68,  35,  76,  84,  45,  66]])"
      ]
     },
     "execution_count": 55,
     "metadata": {},
     "output_type": "execute_result"
    }
   ],
   "source": [
    "np.random.seed(23)\n",
    "n89 = np.random.randint(low=10, high=101, size=(8,9))\n",
    "print(n89)\n",
    "n89[0][0]\n",
    "n89[0,0]\n",
    "n89[2:5]"
   ]
  },
  {
   "cell_type": "code",
   "execution_count": 58,
   "id": "0711d282",
   "metadata": {},
   "outputs": [
    {
     "data": {
      "text/plain": [
       "array([[ 31,  58,  51,  89, 100,  72],\n",
       "       [ 69,  49,  25,  46,  75,  11],\n",
       "       [ 93,  68,  35,  76,  84,  45]])"
      ]
     },
     "execution_count": 58,
     "metadata": {},
     "output_type": "execute_result"
    }
   ],
   "source": [
    "# row slicing, column slicing\n",
    "n89[2:5, 2:8]"
   ]
  },
  {
   "cell_type": "code",
   "execution_count": 59,
   "id": "86b82a37",
   "metadata": {},
   "outputs": [
    {
     "data": {
      "text/plain": [
       "array([[61, 16, 55, 22, 59, 76, 85, 95, 79],\n",
       "       [29, 43, 69, 49, 25, 46, 75, 11, 53],\n",
       "       [23, 70, 32, 48, 41, 88, 10, 31, 16]])"
      ]
     },
     "execution_count": 59,
     "metadata": {},
     "output_type": "execute_result"
    }
   ],
   "source": [
    "n89[1:6:2]"
   ]
  },
  {
   "cell_type": "code",
   "execution_count": 63,
   "id": "f184f030",
   "metadata": {},
   "outputs": [
    {
     "data": {
      "text/plain": [
       "array([[61, 16, 55, 22, 59, 76, 85, 95, 79],\n",
       "       [29, 43, 69, 49, 25, 46, 75, 11, 53],\n",
       "       [23, 70, 32, 48, 41, 88, 10, 31, 16],\n",
       "       [42, 42, 24, 41, 88, 93, 90, 80, 76]])"
      ]
     },
     "execution_count": 63,
     "metadata": {},
     "output_type": "execute_result"
    }
   ],
   "source": [
    "# an list of indeces of required rows can be passed as a list\n",
    "n89[[1,3,5,6]]"
   ]
  },
  {
   "cell_type": "code",
   "execution_count": 66,
   "id": "0cb2a2cb",
   "metadata": {},
   "outputs": [
    {
     "data": {
      "text/plain": [
       "array([16, 69, 48, 93])"
      ]
     },
     "execution_count": 66,
     "metadata": {},
     "output_type": "execute_result"
    }
   ],
   "source": [
    "\"\"\"unintuitive and in pandas we will get 4 rows...\n",
    "here the two lists are zipped together and their coordinates are considered\n",
    "\"\"\"\n",
    "n89[[1,3,5,6], [1,2,3,5]]\n",
    "\n"
   ]
  },
  {
   "cell_type": "code",
   "execution_count": null,
   "id": "cec08c11",
   "metadata": {},
   "outputs": [
    {
     "data": {
      "text/plain": [
       "array([[64, 41, 35],\n",
       "       [22, 59, 79],\n",
       "       [58, 51, 67],\n",
       "       [49, 25, 53],\n",
       "       [68, 35, 66],\n",
       "       [48, 41, 16],\n",
       "       [41, 88, 76],\n",
       "       [37, 72, 52]])"
      ]
     },
     "execution_count": 69,
     "metadata": {},
     "output_type": "execute_result"
    }
   ],
   "source": [
    "# selictive choosing columnns and all rows\n",
    "\n",
    "n89[:, 3:5] # cols 3, 4\n",
    "n89[:, [3,4,-1]] # cols 3, 4 and last col"
   ]
  },
  {
   "cell_type": "code",
   "execution_count": 76,
   "id": "8f8ca689",
   "metadata": {},
   "outputs": [
    {
     "name": "stdout",
     "output_type": "stream",
     "text": [
      "[[False False False  True False  True False  True False]\n",
      " [False False False False False  True False False False]\n",
      " [ True False False  True False False  True  True False]\n",
      " [False False False False False False False False False]\n",
      " [False  True False  True False  True  True False  True]\n",
      " [False  True False False False  True False False False]\n",
      " [False False False False  True False  True  True  True]\n",
      " [ True False False False  True False  True False  True]]\n"
     ]
    },
    {
     "data": {
      "text/plain": [
       "array([ 64,  86, 100,  76,  74,  58, 100,  72,  96,  68,  76,  84,  66,\n",
       "        70,  88,  88,  90,  80,  76,  92,  72,  84,  52])"
      ]
     },
     "execution_count": 76,
     "metadata": {},
     "output_type": "execute_result"
    }
   ],
   "source": [
    "# all even nos greater than 50\n",
    "mask1 = n89 %2 ==0\n",
    "mask2 = n89 > 50\n",
    "mask = mask1 & mask2\n",
    "print(mask)\n",
    "n89[mask]"
   ]
  },
  {
   "cell_type": "code",
   "execution_count": null,
   "id": "7f74dbaf",
   "metadata": {},
   "outputs": [
    {
     "data": {
      "text/plain": [
       "array([ 93,  83,  86, 100,  16,  22,  76,  85,  95,  79,  22,  89, 100,\n",
       "        11,  96,  93,  76,  84,  23,  88,  10,  16,  24,  88,  93,  90,\n",
       "        80,  76,  92,  95,  84,  81])"
      ]
     },
     "execution_count": 80,
     "metadata": {},
     "output_type": "execute_result"
    }
   ],
   "source": [
    "# values less that 25 or greater than 75\n",
    "n89[ (n89<25) | (n89>75)  ] # for some reason the simple brackets are mandatory"
   ]
  },
  {
   "cell_type": "code",
   "execution_count": 84,
   "id": "8265164c",
   "metadata": {},
   "outputs": [
    {
     "data": {
      "text/plain": [
       "array([[  0,   0,   0,   0,   0,   0,   0,   0,   0],\n",
       "       [ 61,  16,  55,  22,  59,  76,  85,  95,  79],\n",
       "       [ 74,  22,  31,  58,  51,  89, 100,  72,  67],\n",
       "       [ 29,  43,  69,  49,  25,  46,  75,  11,  53],\n",
       "       [ 25,  96,  93,  68,  35,  76,  84,  45,  66],\n",
       "       [999, 999, 999, 999, 999, 999, 999, 999, 999],\n",
       "       [999, 999, 999, 999, 999, 999, 999, 999, 999],\n",
       "       [999, 999, 999, 999, 999, 999, 999, 999, 999]])"
      ]
     },
     "execution_count": 84,
     "metadata": {},
     "output_type": "execute_result"
    }
   ],
   "source": [
    "# \n",
    "n89[0] = 0\n",
    "n89[-3:] = 999\n",
    "\n",
    "n89"
   ]
  },
  {
   "cell_type": "code",
   "execution_count": 88,
   "id": "fd0fa014",
   "metadata": {},
   "outputs": [
    {
     "data": {
      "text/plain": [
       "array([[  0,   0,   0,   0,   0,   0,   0,   0,   0],\n",
       "       [  0,   1,   2,   3,   4,   5,   6,   7,   8],\n",
       "       [  9,  10,  11,  12,  13,  14,  15,  16,  17],\n",
       "       [ 29,  43, 789,  49,  25,  46, 789,  11, 789],\n",
       "       [ 25, 789, 789, 789,  35, 789, 789,  45, 789],\n",
       "       [789, 789, 789, 789, 789, 789, 789, 789, 789],\n",
       "       [789, 789, 789, 789, 789, 789, 789, 789, 789],\n",
       "       [789, 789, 789, 789, 789, 789, 789, 789, 789]])"
      ]
     },
     "execution_count": 88,
     "metadata": {},
     "output_type": "execute_result"
    }
   ],
   "source": [
    "n29 = np.arange(18).reshape(2,9)\n",
    "n89[[1,2]] = n29 # rows 1 and 2 are replaced with a different matrix\n",
    "n89[n89>50] = 789\n",
    "n89"
   ]
  },
  {
   "cell_type": "code",
   "execution_count": null,
   "id": "7aef15e3",
   "metadata": {},
   "outputs": [
    {
     "name": "stdout",
     "output_type": "stream",
     "text": [
      "[[5 8 2 3]\n",
      " [8 2 9 7]\n",
      " [6 5 9 4]]\n"
     ]
    },
    {
     "data": {
      "text/plain": [
       "array([18, 26, 24])"
      ]
     },
     "execution_count": 95,
     "metadata": {},
     "output_type": "execute_result"
    }
   ],
   "source": [
    "np.random.seed(23)\n",
    "n34 = np.random.randint(low=2, high=10, size=(3,4))\n",
    "\n",
    "print(n34)\n",
    "\n",
    "np.sum(n34) # 68\n",
    "np.sum(n34, axis=0) # array([19, 15, 20, 14]) -> y axis\n",
    "np.sum(n34, axis=1) # array([18, 26, 24]) -> x axis\n",
    "\n",
    "# max, min, mean, median, var(variance), std(standard deviation = sqrt(variance)) follow the above pattern\n"
   ]
  },
  {
   "cell_type": "code",
   "execution_count": null,
   "id": "877724e9",
   "metadata": {},
   "outputs": [],
   "source": []
  }
 ],
 "metadata": {
  "kernelspec": {
   "display_name": "base",
   "language": "python",
   "name": "python3"
  },
  "language_info": {
   "codemirror_mode": {
    "name": "ipython",
    "version": 3
   },
   "file_extension": ".py",
   "mimetype": "text/x-python",
   "name": "python",
   "nbconvert_exporter": "python",
   "pygments_lexer": "ipython3",
   "version": "3.12.7"
  }
 },
 "nbformat": 4,
 "nbformat_minor": 5
}

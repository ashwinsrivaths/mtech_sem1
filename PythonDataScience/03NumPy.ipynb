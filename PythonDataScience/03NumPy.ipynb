{
 "cells": [
  {
   "cell_type": "markdown",
   "id": "296b4525",
   "metadata": {},
   "source": [
    "# numpy\n",
    "- "
   ]
  },
  {
   "cell_type": "code",
   "execution_count": 55,
   "id": "5b085654",
   "metadata": {},
   "outputs": [],
   "source": [
    "import numpy as np\n",
    "import pandas as pd\n",
    "import seaborn as sls\n",
    "import matplotlib.pyplot as plt"
   ]
  },
  {
   "cell_type": "code",
   "execution_count": null,
   "id": "0c19fbbd",
   "metadata": {},
   "outputs": [
    {
     "name": "stdout",
     "output_type": "stream",
     "text": [
      "[[11 22 33]\n",
      " [44 55 66]]\n",
      "2\n",
      "(2, 3)\n",
      "6\n",
      "4\n",
      "int32\n"
     ]
    }
   ],
   "source": [
    "# goal - create a 2x3 matrix\n",
    "mylist23 = [\n",
    "    [11,22.09,33],\n",
    "    [44,55,66]\n",
    "]\n",
    "\n",
    "n23 = np.array(mylist23)\n",
    "# n23 = np.array(mylist23, dtype=int)\n",
    "print(n23)\n",
    "print(n23.ndim) # number of dimention\n",
    "print(n23.shape) # tuple indiacating access counts\n",
    "print(n23.size) # total elements in array\n",
    "print(n23.itemsize) # elemetn size - (int64 - dtype) 4 bytes in my case\n",
    "print(n23.dtype)\n",
    "\n",
    "\n",
    "\n"
   ]
  },
  {
   "cell_type": "code",
   "execution_count": 12,
   "id": "b50c3199",
   "metadata": {},
   "outputs": [
    {
     "data": {
      "text/plain": [
       "'3.12.7 | packaged by Anaconda, Inc. | (main, Oct  4 2024, 13:17:27) [MSC v.1929 64 bit (AMD64)]'"
      ]
     },
     "execution_count": 12,
     "metadata": {},
     "output_type": "execute_result"
    }
   ],
   "source": [
    "import sys\n",
    "sys.version\n"
   ]
  },
  {
   "cell_type": "code",
   "execution_count": 4,
   "id": "4a3a4a77",
   "metadata": {},
   "outputs": [
    {
     "data": {
      "text/plain": [
       "array([[ 93,  41,  35,  22,  95,  31],\n",
       "       [ 50,  86,  61,  59,  79,  58],\n",
       "       [ 83,  49,  16,  76,  74,  51],\n",
       "       [ 64, 100,  55,  85,  22,  89]])"
      ]
     },
     "execution_count": 4,
     "metadata": {},
     "output_type": "execute_result"
    }
   ],
   "source": [
    "n1 = np.arange(10.2,20,2.5) # floating point numbers works with numpy arange but not with normal python range\n",
    "n1 = np.arange(22.2,20,-0.5) # array([22.2, 21.7, 21.2, 20.7, 20.2])\n",
    "n1 = np.arange(24).reshape(6,4) # reahape must be consistant -> 6*4 = 24\n",
    "n1 = np.arange(24).reshape(6,-1) # reahape calculates when -1 is used\n",
    "n1 = n1.flatten() # flatten it back to 1 dimention\n",
    "n1\n",
    "\n",
    "n64 = np.ones(shape=(6,4))\n",
    "n64 = np.zeros(shape=(6,4))\n",
    "n64 = np.identity(6)\n",
    "\n",
    "np.random.seed(23)\n",
    "n64 = np.random.randint(low=10, high=101,size=(6,4))\n",
    "n64\n",
    "\n",
    "n46 = n64.T\n",
    "n46 = np.transpose(n64)\n",
    "n46"
   ]
  },
  {
   "cell_type": "code",
   "execution_count": 6,
   "id": "adc408d9",
   "metadata": {},
   "outputs": [
    {
     "name": "stdout",
     "output_type": "stream",
     "text": [
      "[[ 93  50  83  64  41  86  49 100  35]\n",
      " [ 61  16  55  22  59  76  85  95  79]\n",
      " [ 74  22  31  58  51  89 100  72  67]\n",
      " [ 29  43  69  49  25  46  75  11  53]\n",
      " [ 25  96  93  68  35  76  84  45  66]\n",
      " [ 23  70  32  48  41  88  10  31  16]\n",
      " [ 42  42  24  41  88  93  90  80  76]\n",
      " [ 92  95  65  37  72  53  84  81  52]]\n"
     ]
    },
    {
     "data": {
      "text/plain": [
       "array([[ 74,  22,  31,  58,  51,  89, 100,  72,  67],\n",
       "       [ 29,  43,  69,  49,  25,  46,  75,  11,  53],\n",
       "       [ 25,  96,  93,  68,  35,  76,  84,  45,  66]])"
      ]
     },
     "execution_count": 6,
     "metadata": {},
     "output_type": "execute_result"
    }
   ],
   "source": [
    "np.random.seed(23)\n",
    "n89 = np.random.randint(low=10, high=101, size=(8,9))\n",
    "print(n89)\n",
    "n89[0][0]\n",
    "n89[0,0]\n",
    "n89[2:5]"
   ]
  },
  {
   "cell_type": "code",
   "execution_count": 7,
   "id": "0711d282",
   "metadata": {},
   "outputs": [
    {
     "data": {
      "text/plain": [
       "array([[ 31,  58,  51,  89, 100,  72],\n",
       "       [ 69,  49,  25,  46,  75,  11],\n",
       "       [ 93,  68,  35,  76,  84,  45]])"
      ]
     },
     "execution_count": 7,
     "metadata": {},
     "output_type": "execute_result"
    }
   ],
   "source": [
    "# row slicing, column slicing\n",
    "n89[2:5, 2:8]"
   ]
  },
  {
   "cell_type": "code",
   "execution_count": 59,
   "id": "86b82a37",
   "metadata": {},
   "outputs": [
    {
     "data": {
      "text/plain": [
       "array([[61, 16, 55, 22, 59, 76, 85, 95, 79],\n",
       "       [29, 43, 69, 49, 25, 46, 75, 11, 53],\n",
       "       [23, 70, 32, 48, 41, 88, 10, 31, 16]])"
      ]
     },
     "execution_count": 59,
     "metadata": {},
     "output_type": "execute_result"
    }
   ],
   "source": [
    "n89[1:6:2]"
   ]
  },
  {
   "cell_type": "code",
   "execution_count": 63,
   "id": "f184f030",
   "metadata": {},
   "outputs": [
    {
     "data": {
      "text/plain": [
       "array([[61, 16, 55, 22, 59, 76, 85, 95, 79],\n",
       "       [29, 43, 69, 49, 25, 46, 75, 11, 53],\n",
       "       [23, 70, 32, 48, 41, 88, 10, 31, 16],\n",
       "       [42, 42, 24, 41, 88, 93, 90, 80, 76]])"
      ]
     },
     "execution_count": 63,
     "metadata": {},
     "output_type": "execute_result"
    }
   ],
   "source": [
    "# an list of indeces of required rows can be passed as a list\n",
    "n89[[1,3,5,6]]"
   ]
  },
  {
   "cell_type": "code",
   "execution_count": 66,
   "id": "0cb2a2cb",
   "metadata": {},
   "outputs": [
    {
     "data": {
      "text/plain": [
       "array([16, 69, 48, 93])"
      ]
     },
     "execution_count": 66,
     "metadata": {},
     "output_type": "execute_result"
    }
   ],
   "source": [
    "\"\"\"unintuitive and in pandas we will get 4 rows...\n",
    "here the two lists are zipped together and their coordinates are considered\n",
    "\"\"\"\n",
    "n89[[1,3,5,6], [1,2,3,5]]\n",
    "\n"
   ]
  },
  {
   "cell_type": "code",
   "execution_count": null,
   "id": "cec08c11",
   "metadata": {},
   "outputs": [
    {
     "data": {
      "text/plain": [
       "array([[64, 41, 35],\n",
       "       [22, 59, 79],\n",
       "       [58, 51, 67],\n",
       "       [49, 25, 53],\n",
       "       [68, 35, 66],\n",
       "       [48, 41, 16],\n",
       "       [41, 88, 76],\n",
       "       [37, 72, 52]])"
      ]
     },
     "execution_count": 69,
     "metadata": {},
     "output_type": "execute_result"
    }
   ],
   "source": [
    "# selictive choosing columnns and all rows\n",
    "\n",
    "n89[:, 3:5] # cols 3, 4\n",
    "n89[:, [3,4,-1]] # cols 3, 4 and last col"
   ]
  },
  {
   "cell_type": "code",
   "execution_count": 76,
   "id": "8f8ca689",
   "metadata": {},
   "outputs": [
    {
     "name": "stdout",
     "output_type": "stream",
     "text": [
      "[[False False False  True False  True False  True False]\n",
      " [False False False False False  True False False False]\n",
      " [ True False False  True False False  True  True False]\n",
      " [False False False False False False False False False]\n",
      " [False  True False  True False  True  True False  True]\n",
      " [False  True False False False  True False False False]\n",
      " [False False False False  True False  True  True  True]\n",
      " [ True False False False  True False  True False  True]]\n"
     ]
    },
    {
     "data": {
      "text/plain": [
       "array([ 64,  86, 100,  76,  74,  58, 100,  72,  96,  68,  76,  84,  66,\n",
       "        70,  88,  88,  90,  80,  76,  92,  72,  84,  52])"
      ]
     },
     "execution_count": 76,
     "metadata": {},
     "output_type": "execute_result"
    }
   ],
   "source": [
    "# all even nos greater than 50\n",
    "mask1 = n89 %2 ==0\n",
    "mask2 = n89 > 50\n",
    "mask = mask1 & mask2\n",
    "print(mask)\n",
    "n89[mask]"
   ]
  },
  {
   "cell_type": "code",
   "execution_count": null,
   "id": "7f74dbaf",
   "metadata": {},
   "outputs": [
    {
     "data": {
      "text/plain": [
       "array([ 93,  83,  86, 100,  16,  22,  76,  85,  95,  79,  22,  89, 100,\n",
       "        11,  96,  93,  76,  84,  23,  88,  10,  16,  24,  88,  93,  90,\n",
       "        80,  76,  92,  95,  84,  81])"
      ]
     },
     "execution_count": 80,
     "metadata": {},
     "output_type": "execute_result"
    }
   ],
   "source": [
    "# values less that 25 or greater than 75\n",
    "n89[ (n89<25) | (n89>75)  ] # for some reason the simple brackets are mandatory"
   ]
  },
  {
   "cell_type": "code",
   "execution_count": 84,
   "id": "8265164c",
   "metadata": {},
   "outputs": [
    {
     "data": {
      "text/plain": [
       "array([[  0,   0,   0,   0,   0,   0,   0,   0,   0],\n",
       "       [ 61,  16,  55,  22,  59,  76,  85,  95,  79],\n",
       "       [ 74,  22,  31,  58,  51,  89, 100,  72,  67],\n",
       "       [ 29,  43,  69,  49,  25,  46,  75,  11,  53],\n",
       "       [ 25,  96,  93,  68,  35,  76,  84,  45,  66],\n",
       "       [999, 999, 999, 999, 999, 999, 999, 999, 999],\n",
       "       [999, 999, 999, 999, 999, 999, 999, 999, 999],\n",
       "       [999, 999, 999, 999, 999, 999, 999, 999, 999]])"
      ]
     },
     "execution_count": 84,
     "metadata": {},
     "output_type": "execute_result"
    }
   ],
   "source": [
    "# \n",
    "n89[0] = 0\n",
    "n89[-3:] = 999\n",
    "\n",
    "n89"
   ]
  },
  {
   "cell_type": "code",
   "execution_count": 88,
   "id": "fd0fa014",
   "metadata": {},
   "outputs": [
    {
     "data": {
      "text/plain": [
       "array([[  0,   0,   0,   0,   0,   0,   0,   0,   0],\n",
       "       [  0,   1,   2,   3,   4,   5,   6,   7,   8],\n",
       "       [  9,  10,  11,  12,  13,  14,  15,  16,  17],\n",
       "       [ 29,  43, 789,  49,  25,  46, 789,  11, 789],\n",
       "       [ 25, 789, 789, 789,  35, 789, 789,  45, 789],\n",
       "       [789, 789, 789, 789, 789, 789, 789, 789, 789],\n",
       "       [789, 789, 789, 789, 789, 789, 789, 789, 789],\n",
       "       [789, 789, 789, 789, 789, 789, 789, 789, 789]])"
      ]
     },
     "execution_count": 88,
     "metadata": {},
     "output_type": "execute_result"
    }
   ],
   "source": [
    "n29 = np.arange(18).reshape(2,9)\n",
    "n89[[1,2]] = n29 # rows 1 and 2 are replaced with a different matrix\n",
    "n89[n89>50] = 789\n",
    "n89"
   ]
  },
  {
   "cell_type": "code",
   "execution_count": null,
   "id": "7aef15e3",
   "metadata": {},
   "outputs": [
    {
     "name": "stdout",
     "output_type": "stream",
     "text": [
      "[[5 8 2 3]\n",
      " [8 2 9 7]\n",
      " [6 5 9 4]]\n"
     ]
    },
    {
     "data": {
      "text/plain": [
       "array([18, 26, 24])"
      ]
     },
     "execution_count": 95,
     "metadata": {},
     "output_type": "execute_result"
    }
   ],
   "source": [
    "np.random.seed(23)\n",
    "n34 = np.random.randint(low=2, high=10, size=(3,4))\n",
    "\n",
    "\n",
    "CHECK..................\n",
    "print(n34)\n",
    "\n",
    "np.sum(n34) # 68\n",
    "np.sum(n34, axis=0) # array([19, 15, 20, 14]) -> y axis - up and down???\n",
    "np.sum(n34, axis=1) # array([18, 26, 24]) -> \n",
    "\n",
    "# max, min, mean, median, var(variance), std(standard deviation = sqrt(variance)) follow the above pattern\n"
   ]
  },
  {
   "cell_type": "markdown",
   "id": "5a15082a",
   "metadata": {},
   "source": [
    "# arthmetic ops"
   ]
  },
  {
   "cell_type": "code",
   "execution_count": null,
   "id": "877724e9",
   "metadata": {},
   "outputs": [
    {
     "name": "stdout",
     "output_type": "stream",
     "text": [
      "[0 1 2 3 4 5]\n",
      "[10 11 12 13 14 15]\n",
      "[-10 -10 -10 -10 -10 -10]\n",
      "[     1     11    144   2197  38416 759375]\n",
      "[10 12 14 16 18 20]\n"
     ]
    }
   ],
   "source": [
    "n1 = np.arange(6)\n",
    "n2 = np.arange(10,16)\n",
    "\n",
    "print(n1)\n",
    "print(n2)\n",
    "print(n1 - n2)\n",
    "print(n2 ** n1) # exponent\n",
    "print(n1 + n2)\n"
   ]
  },
  {
   "cell_type": "code",
   "execution_count": null,
   "id": "d1764999",
   "metadata": {},
   "outputs": [
    {
     "name": "stdout",
     "output_type": "stream",
     "text": [
      "[[100 102 104 106]\n",
      " [108 110 112 114]\n",
      " [116 118 120 122]]\n",
      "[[10 11 12 13]\n",
      " [14 15 16 17]\n",
      " [18 19 20 21]]\n"
     ]
    }
   ],
   "source": [
    "n34a = np.arange(12).reshape(3,4)\n",
    "n34b = np.arange(100, 112).reshape(3,4)\n",
    "\n",
    "print(n34a+n34b)\n",
    "print(n34a + 10) # broadcasting where 10 is made to a 3x4 matrix and the two matrices are added"
   ]
  },
  {
   "cell_type": "code",
   "execution_count": 29,
   "id": "c0652502",
   "metadata": {},
   "outputs": [
    {
     "name": "stdout",
     "output_type": "stream",
     "text": [
      "[[ 93  50  83  64  41  86  49 100  35]\n",
      " [ 61  16  55  22  59  76  85  95  79]\n",
      " [ 74  22  31  58  51  89 100  72  67]\n",
      " [ 29  43  69  49  25  46  75  11  53]\n",
      " [ 25  96  93  68  35  76  84  45  66]\n",
      " [ 23  70  32  48  41  88  10  31  16]\n",
      " [ 42  42  24  41  88  93  90  80  76]\n",
      " [ 92  95  65  37  72  53  84  81  52]]\n",
      "\n",
      "(4, 9)\n",
      "[[ 93  50  83  64  41  86  49 100  35]\n",
      " [ 61  16  55  22  59  76  85  95  79]\n",
      " [ 74  22  31  58  51  89 100  72  67]\n",
      " [ 29  43  69  49  25  46  75  11  53]]\n",
      "\n",
      "(4, 9)\n",
      "[[25 96 93 68 35 76 84 45 66]\n",
      " [23 70 32 48 41 88 10 31 16]\n",
      " [42 42 24 41 88 93 90 80 76]\n",
      " [92 95 65 37 72 53 84 81 52]]\n"
     ]
    },
    {
     "data": {
      "text/plain": [
       "[array([[93, 50, 83],\n",
       "        [61, 16, 55],\n",
       "        [74, 22, 31],\n",
       "        [29, 43, 69],\n",
       "        [25, 96, 93],\n",
       "        [23, 70, 32],\n",
       "        [42, 42, 24],\n",
       "        [92, 95, 65]]),\n",
       " array([[64, 41, 86],\n",
       "        [22, 59, 76],\n",
       "        [58, 51, 89],\n",
       "        [49, 25, 46],\n",
       "        [68, 35, 76],\n",
       "        [48, 41, 88],\n",
       "        [41, 88, 93],\n",
       "        [37, 72, 53]]),\n",
       " array([[ 49, 100,  35],\n",
       "        [ 85,  95,  79],\n",
       "        [100,  72,  67],\n",
       "        [ 75,  11,  53],\n",
       "        [ 84,  45,  66],\n",
       "        [ 10,  31,  16],\n",
       "        [ 90,  80,  76],\n",
       "        [ 84,  81,  52]])]"
      ]
     },
     "execution_count": 29,
     "metadata": {},
     "output_type": "execute_result"
    }
   ],
   "source": [
    "np.random.seed(23)\n",
    "np.random.randint(low=10, high=101, size=(8,9))\n",
    "#                               AXIS=     0,1\n",
    "\n",
    "print(n89)\n",
    "\n",
    "# IMPORTANT\n",
    "# this is split on axis 0\n",
    "r = np.vsplit(n89,2)\n",
    "for arr in r:\n",
    "    print()\n",
    "    print(arr.shape)\n",
    "    print(arr)\n",
    "\n",
    "\n",
    "np.hsplit(n89, 3)\n"
   ]
  },
  {
   "cell_type": "code",
   "execution_count": 36,
   "id": "591420da",
   "metadata": {},
   "outputs": [
    {
     "name": "stdout",
     "output_type": "stream",
     "text": [
      "[[ 93  50  83  64  41  86  49 100  35]\n",
      " [ 61  16  55  22  59  76  85  95  79]\n",
      " [ 74  22  31  58  51  89 100  72  67]\n",
      " [ 29  43  69  49  25  46  75  11  53]\n",
      " [ 25  96  93  68  35  76  84  45  66]\n",
      " [ 23  70  32  48  41  88  10  31  16]\n",
      " [ 42  42  24  41  88  93  90  80  76]\n",
      " [ 92  95  65  37  72  53  84  81  52]]\n"
     ]
    },
    {
     "data": {
      "text/plain": [
       "[array([[ 93,  50,  83,  64,  41,  86,  49, 100,  35],\n",
       "        [ 61,  16,  55,  22,  59,  76,  85,  95,  79],\n",
       "        [ 74,  22,  31,  58,  51,  89, 100,  72,  67]]),\n",
       " array([[29, 43, 69, 49, 25, 46, 75, 11, 53],\n",
       "        [25, 96, 93, 68, 35, 76, 84, 45, 66]]),\n",
       " array([[23, 70, 32, 48, 41, 88, 10, 31, 16],\n",
       "        [42, 42, 24, 41, 88, 93, 90, 80, 76],\n",
       "        [92, 95, 65, 37, 72, 53, 84, 81, 52]])]"
      ]
     },
     "execution_count": 36,
     "metadata": {},
     "output_type": "execute_result"
    }
   ],
   "source": [
    "# unequal split\n",
    "print(n89)\n",
    "\n",
    "# just put : everywhere and calculate\n",
    "np.vsplit(n89, [3,5]) # ( : 3 : 5 : ) slicing internally\n",
    "\n",
    "# np.vsplit(n89, [2,3,5,7])\n",
    "\n",
    "# np.hsplit(n89, [2,4,5,8])\n"
   ]
  },
  {
   "cell_type": "markdown",
   "id": "0af342c8",
   "metadata": {},
   "source": [
    "# stack"
   ]
  },
  {
   "cell_type": "code",
   "execution_count": null,
   "id": "521f9cf7",
   "metadata": {},
   "outputs": [
    {
     "name": "stdout",
     "output_type": "stream",
     "text": [
      "[[ 0  1  2  3]\n",
      " [ 4  5  6  7]\n",
      " [ 8  9 10 11]]\n",
      "[[100 101 102 103]\n",
      " [104 105 106 107]\n",
      " [108 109 110 111]]\n"
     ]
    },
    {
     "data": {
      "text/plain": [
       "array([[  0,   1,   2,   3],\n",
       "       [  4,   5,   6,   7],\n",
       "       [  8,   9,  10,  11],\n",
       "       [100, 101, 102, 103],\n",
       "       [104, 105, 106, 107],\n",
       "       [108, 109, 110, 111]])"
      ]
     },
     "execution_count": 38,
     "metadata": {},
     "output_type": "execute_result"
    }
   ],
   "source": [
    "print(n34a)\n",
    "print(n34b)\n",
    "\n",
    "np.vstack((n34a, n34b))\n",
    "\n",
    "# np.hstack\n",
    "# np.dstack #depth stack for rubix cube or 3d matrix"
   ]
  },
  {
   "cell_type": "code",
   "execution_count": 41,
   "id": "28ec2a64",
   "metadata": {},
   "outputs": [
    {
     "data": {
      "text/plain": [
       "array([3.  , 3.25, 3.5 , 3.75, 4.  , 4.25, 4.5 , 4.75, 5.  ])"
      ]
     },
     "execution_count": 41,
     "metadata": {},
     "output_type": "execute_result"
    }
   ],
   "source": [
    "#linspace\n",
    "# help(np.linspace)\n",
    "np.linspace(start=3,stop=5,num=9) #range with number of elements instead of step size"
   ]
  },
  {
   "cell_type": "code",
   "execution_count": null,
   "id": "af17e89a",
   "metadata": {},
   "outputs": [
    {
     "name": "stdout",
     "output_type": "stream",
     "text": [
      "0 0\n",
      "1 1\n",
      "2 2\n",
      "3 3\n",
      "4 4\n",
      "[0 1 2 3]\n",
      "[4 5 6 7]\n",
      "[ 8  9 10 11]\n",
      "(0, 0) 0\n",
      "(0, 1) 1\n",
      "(0, 2) 2\n",
      "(0, 3) 3\n",
      "(1, 0) 4\n",
      "(1, 1) 5\n",
      "(1, 2) 6\n",
      "(1, 3) 7\n",
      "(2, 0) 8\n",
      "(2, 1) 9\n",
      "(2, 2) 10\n",
      "(2, 3) 11\n"
     ]
    }
   ],
   "source": [
    "# loops\n",
    "for index,val in enumerate(range(5)):\n",
    "    print(index, val)\n",
    "\n",
    "for row in n34:\n",
    "    print(row)\n",
    "\n",
    "for element in np.nditer(n34):\n",
    "    pass\n",
    "\n",
    "for index, value in np.ndenumerate(n34):\n",
    "    print(index, value)"
   ]
  },
  {
   "cell_type": "code",
   "execution_count": 59,
   "id": "618513bf",
   "metadata": {},
   "outputs": [
    {
     "name": "stdout",
     "output_type": "stream",
     "text": [
      "0.9997451262123577\n",
      "0.0009268690005717062\n",
      "0.5023813856981696\n"
     ]
    },
    {
     "data": {
      "text/plain": [
       "<matplotlib.collections.PathCollection at 0x1f23a2138f0>"
      ]
     },
     "execution_count": 59,
     "metadata": {},
     "output_type": "execute_result"
    },
    {
     "data": {
      "image/png": "[encoded data removed]",
      "text/plain": [
       "<Figure size 640x480 with 1 Axes>"
      ]
     },
     "metadata": {},
     "output_type": "display_data"
    }
   ],
   "source": [
    "nr = np.random.rand(30,40)\n",
    "\n",
    "print(nr.max())\n",
    "print(nr.min())\n",
    "print(nr.mean())\n",
    "\n",
    "plt.scatter(nr,nr.T)\n"
   ]
  },
  {
   "cell_type": "code",
   "execution_count": 61,
   "id": "df1bb5a0",
   "metadata": {},
   "outputs": [
    {
     "name": "stdout",
     "output_type": "stream",
     "text": [
      "3.4581395389380623\n",
      "-3.2723879804064917\n",
      "0.014270140948589916\n"
     ]
    },
    {
     "data": {
      "text/plain": [
       "(array([[ 0.,  0.,  0.,  6.,  9.,  7.,  2.,  5.,  1.,  0.],\n",
       "        [ 0.,  1.,  3.,  4., 10.,  8.,  2.,  2.,  0.,  0.],\n",
       "        [ 0.,  0.,  5.,  5.,  9.,  9.,  2.,  0.,  0.,  0.],\n",
       "        [ 0.,  1.,  2.,  6.,  9.,  5.,  4.,  2.,  0.,  1.],\n",
       "        [ 0.,  0.,  1.,  3.,  9., 12.,  3.,  1.,  1.,  0.],\n",
       "        [ 0.,  1.,  1.,  4., 12.,  5.,  3.,  4.,  0.,  0.],\n",
       "        [ 0.,  2.,  2.,  7.,  6.,  9.,  2.,  0.,  2.,  0.],\n",
       "        [ 0.,  0.,  1.,  7.,  4.,  8.,  7.,  3.,  0.,  0.],\n",
       "        [ 1.,  1.,  1.,  6., 11.,  6.,  4.,  0.,  0.,  0.],\n",
       "        [ 0.,  0.,  1.,  3.,  4., 14.,  6.,  2.,  0.,  0.],\n",
       "        [ 0.,  0.,  3.,  2., 10., 11.,  3.,  1.,  0.,  0.],\n",
       "        [ 0.,  0.,  0.,  4.,  6.,  9.,  6.,  5.,  0.,  0.],\n",
       "        [ 0.,  2.,  1.,  2.,  7.,  9.,  6.,  2.,  1.,  0.],\n",
       "        [ 0.,  0.,  3.,  4.,  6.,  9.,  7.,  1.,  0.,  0.],\n",
       "        [ 0.,  1.,  1.,  5.,  7.,  7.,  4.,  4.,  1.,  0.],\n",
       "        [ 0.,  0.,  2.,  6., 11.,  4.,  3.,  1.,  2.,  1.],\n",
       "        [ 0.,  1.,  3.,  7.,  7.,  4.,  4.,  3.,  1.,  0.],\n",
       "        [ 0.,  1.,  2.,  8.,  9.,  8.,  1.,  0.,  0.,  1.],\n",
       "        [ 0.,  1.,  2.,  8.,  7.,  7.,  3.,  1.,  1.,  0.],\n",
       "        [ 1.,  1.,  0.,  9.,  4.,  8.,  6.,  1.,  0.,  0.],\n",
       "        [ 0.,  1.,  2.,  6.,  9.,  4.,  6.,  1.,  0.,  1.],\n",
       "        [ 0.,  1.,  2.,  6.,  7.,  3.,  8.,  3.,  0.,  0.],\n",
       "        [ 0.,  1.,  2.,  4.,  5., 12.,  5.,  1.,  0.,  0.],\n",
       "        [ 0.,  2.,  1.,  5.,  7.,  8.,  6.,  1.,  0.,  0.],\n",
       "        [ 0.,  1.,  4.,  7.,  8.,  6.,  2.,  2.,  0.,  0.],\n",
       "        [ 1.,  1.,  0.,  5., 12.,  7.,  2.,  2.,  0.,  0.],\n",
       "        [ 0.,  1.,  3.,  6.,  9.,  8.,  2.,  1.,  0.,  0.],\n",
       "        [ 0.,  2.,  3.,  1.,  6., 10.,  5.,  2.,  1.,  0.],\n",
       "        [ 0.,  1.,  0.,  9.,  5.,  7.,  5.,  3.,  0.,  0.],\n",
       "        [ 0.,  1.,  2.,  5.,  7.,  7.,  6.,  0.,  2.,  0.],\n",
       "        [ 1.,  0.,  2.,  4.,  9.,  7.,  3.,  2.,  1.,  1.],\n",
       "        [ 1.,  3.,  3.,  7.,  8.,  1.,  6.,  1.,  0.,  0.],\n",
       "        [ 0.,  0.,  1.,  7.,  3., 11.,  2.,  4.,  2.,  0.],\n",
       "        [ 0.,  1.,  3., 10.,  4.,  7.,  2.,  2.,  1.,  0.],\n",
       "        [ 0.,  1.,  0.,  9.,  8.,  8.,  4.,  0.,  0.,  0.],\n",
       "        [ 0.,  0.,  2.,  7.,  9.,  7.,  3.,  2.,  0.,  0.],\n",
       "        [ 0.,  1.,  2.,  4.,  5., 12.,  5.,  1.,  0.,  0.],\n",
       "        [ 1.,  1.,  2.,  6.,  7., 10.,  2.,  0.,  1.,  0.],\n",
       "        [ 0.,  1.,  1.,  7.,  9., 10.,  1.,  1.,  0.,  0.],\n",
       "        [ 0.,  0.,  2.,  4., 10.,  6.,  5.,  2.,  1.,  0.]]),\n",
       " array([-3.27238798, -2.59933523, -1.92628248, -1.25322972, -0.58017697,\n",
       "         0.09287578,  0.76592853,  1.43898128,  2.11203404,  2.78508679,\n",
       "         3.45813954]),\n",
       " <a list of 40 BarContainer objects>)"
      ]
     },
     "execution_count": 61,
     "metadata": {},
     "output_type": "execute_result"
    },
    {
     "data": {
      "image/png": "[encoded data removed]",
      "text/plain": [
       "<Figure size 640x480 with 1 Axes>"
      ]
     },
     "metadata": {},
     "output_type": "display_data"
    }
   ],
   "source": [
    "nr = np.random.randn(30,40) # normal distribution framework\n",
    "\n",
    "print(nr.max())\n",
    "print(nr.min())\n",
    "print(nr.mean())\n",
    "\n",
    "# plt.scatter(nr,nr.T)\n",
    "\n",
    "plt.hist(nr)"
   ]
  },
  {
   "cell_type": "code",
   "execution_count": null,
   "id": "f41d6aca",
   "metadata": {},
   "outputs": [],
   "source": []
  }
 ],
 "metadata": {
  "kernelspec": {
   "display_name": "base",
   "language": "python",
   "name": "python3"
  },
  "language_info": {
   "codemirror_mode": {
    "name": "ipython",
    "version": 3
   },
   "file_extension": ".py",
   "mimetype": "text/x-python",
   "name": "python",
   "nbconvert_exporter": "python",
   "pygments_lexer": "ipython3",
   "version": "3.12.7"
  }
 },
 "nbformat": 4,
 "nbformat_minor": 5
}
